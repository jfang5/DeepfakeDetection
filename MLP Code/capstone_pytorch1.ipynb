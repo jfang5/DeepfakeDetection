{
 "cells": [
  {
   "cell_type": "markdown",
   "metadata": {},
   "source": [
    "1. Understandably that without the activation function it becomes a linear problem. Can you give me an example of a complicated NN problem that would require a activation function? Would this be something for monte carlo is my guess?\n",
    "2. Difference between pytorch variable and tensor - does this still exist?\n",
    "\n",
    "3. When you do that first layer process - from 4 to x # whats the determination for this?\n",
    "4. What is Autograd for?https://pytorch.org/tutorials/beginner/blitz/autograd_tutorial.html\n",
    "5. BCELoss versus Cross"
   ]
  },
  {
   "cell_type": "markdown",
   "metadata": {},
   "source": [
    "Xavier Initalization?\n",
    "\n",
    "https://andyljones.tumblr.com/post/110998971763/an-explanation-of-xavier-initialization\n",
    "\n",
    " Instead of initializing our weights with small numbers which are distributed randomly we initialize our weights with mean zero and variance of 2/(number of inputs + number of outputs)\n",
    " \n",
    "  the weights in a network start too small, then the signal shrinks as it passes through each layer until it’s too tiny to be useful.\n",
    "If the weights in a network start too large, then the signal grows as it passes through each layer until it’s too massive to be useful.\n",
    "Xavier initialization makes sure the weights are ‘just right’, keeping the signal in a reasonable range of values through many layers."
   ]
  },
  {
   "cell_type": "code",
   "execution_count": null,
   "metadata": {},
   "outputs": [],
   "source": [
    "# !pip install torch\n",
    "# !pip install torchvision"
   ]
  },
  {
   "cell_type": "code",
   "execution_count": 186,
   "metadata": {},
   "outputs": [],
   "source": [
    "import numpy as np\n",
    "import pandas as pd\n",
    "import torch\n",
    "import torch.nn as nn\n",
    "\n",
    "import torchvision\n",
    "from torchvision import transforms, datasets #batching and working with data is already done for us so it has prepared data\n",
    "\n",
    "import matplotlib.pyplot as plt\n",
    "from PIL import Image\n",
    "\n",
    "from sklearn import datasets as skdata\n"
   ]
  },
  {
   "cell_type": "markdown",
   "metadata": {},
   "source": [
    "# multi-layer-perceptron"
   ]
  },
  {
   "cell_type": "code",
   "execution_count": 187,
   "metadata": {},
   "outputs": [],
   "source": [
    "# tensor is a multi dimensional array"
   ]
  },
  {
   "cell_type": "code",
   "execution_count": 188,
   "metadata": {},
   "outputs": [
    {
     "data": {
      "text/plain": [
       "tensor([10.,  3.])"
      ]
     },
     "execution_count": 188,
     "metadata": {},
     "output_type": "execute_result"
    }
   ],
   "source": [
    "x = torch.Tensor([5,3])\n",
    "y = torch.Tensor([2,1])\n",
    "\n",
    "x*y"
   ]
  },
  {
   "cell_type": "code",
   "execution_count": 189,
   "metadata": {},
   "outputs": [
    {
     "name": "stdout",
     "output_type": "stream",
     "text": [
      "tensor([[0.1969, 0.4761, 0.6599, 0.2518, 0.8377],\n",
      "        [0.9987, 0.6410, 0.1174, 0.2234, 0.4336]])\n",
      "\n",
      " you want to do a flatten operation so you can do nn aka turn this 2 by 5 into a 1 by 10\n",
      "\n",
      "tensor([[0.1969, 0.4761, 0.6599, 0.2518, 0.8377, 0.9987, 0.6410, 0.1174, 0.2234,\n",
      "         0.4336]])\n"
     ]
    }
   ],
   "source": [
    "y = torch.rand([2,5])\n",
    "print(y)\n",
    "print('\\n you want to do a flatten operation so you can do nn aka turn this 2 by 5 into a 1 by 10\\n')\n",
    "y = y.view([1,10])\n",
    "print(y)"
   ]
  },
  {
   "cell_type": "markdown",
   "metadata": {},
   "source": [
    "# p2\n"
   ]
  },
  {
   "cell_type": "code",
   "execution_count": 190,
   "metadata": {},
   "outputs": [],
   "source": [
    "train = datasets.MNIST(\"\", train = True, download = True, transform = transforms.Compose([transforms.ToTensor()]))\n",
    "test = datasets.MNIST(\"\", train = False, download = True, transform = transforms.Compose([transforms.ToTensor()]))\n",
    "\n",
    "#handdrawn digits from 0 to 9 - 28 by 28"
   ]
  },
  {
   "cell_type": "code",
   "execution_count": null,
   "metadata": {},
   "outputs": [],
   "source": []
  },
  {
   "cell_type": "code",
   "execution_count": 191,
   "metadata": {},
   "outputs": [],
   "source": [
    "trainset = torch.utils.data.DataLoader(train, batch_size = 10, shuffle = True) #size is huge so ram can only handle so much. need a batch size to split it up to get to the full epoch - base 8 - bigger batch size = faster training\n",
    "testset = torch.utils.data.DataLoader(test, batch_size = 10, shuffle = True)\n",
    "\n",
    "#shuffle lets you figure out generalized principles not just 1 ,2 ,3 ,4 ,5 ,6\n",
    "\n",
    "#returns a list of x and y tensors."
   ]
  },
  {
   "cell_type": "code",
   "execution_count": 192,
   "metadata": {},
   "outputs": [
    {
     "name": "stdout",
     "output_type": "stream",
     "text": [
      "[tensor([[[[0., 0., 0.,  ..., 0., 0., 0.],\n",
      "          [0., 0., 0.,  ..., 0., 0., 0.],\n",
      "          [0., 0., 0.,  ..., 0., 0., 0.],\n",
      "          ...,\n",
      "          [0., 0., 0.,  ..., 0., 0., 0.],\n",
      "          [0., 0., 0.,  ..., 0., 0., 0.],\n",
      "          [0., 0., 0.,  ..., 0., 0., 0.]]],\n",
      "\n",
      "\n",
      "        [[[0., 0., 0.,  ..., 0., 0., 0.],\n",
      "          [0., 0., 0.,  ..., 0., 0., 0.],\n",
      "          [0., 0., 0.,  ..., 0., 0., 0.],\n",
      "          ...,\n",
      "          [0., 0., 0.,  ..., 0., 0., 0.],\n",
      "          [0., 0., 0.,  ..., 0., 0., 0.],\n",
      "          [0., 0., 0.,  ..., 0., 0., 0.]]],\n",
      "\n",
      "\n",
      "        [[[0., 0., 0.,  ..., 0., 0., 0.],\n",
      "          [0., 0., 0.,  ..., 0., 0., 0.],\n",
      "          [0., 0., 0.,  ..., 0., 0., 0.],\n",
      "          ...,\n",
      "          [0., 0., 0.,  ..., 0., 0., 0.],\n",
      "          [0., 0., 0.,  ..., 0., 0., 0.],\n",
      "          [0., 0., 0.,  ..., 0., 0., 0.]]],\n",
      "\n",
      "\n",
      "        ...,\n",
      "\n",
      "\n",
      "        [[[0., 0., 0.,  ..., 0., 0., 0.],\n",
      "          [0., 0., 0.,  ..., 0., 0., 0.],\n",
      "          [0., 0., 0.,  ..., 0., 0., 0.],\n",
      "          ...,\n",
      "          [0., 0., 0.,  ..., 0., 0., 0.],\n",
      "          [0., 0., 0.,  ..., 0., 0., 0.],\n",
      "          [0., 0., 0.,  ..., 0., 0., 0.]]],\n",
      "\n",
      "\n",
      "        [[[0., 0., 0.,  ..., 0., 0., 0.],\n",
      "          [0., 0., 0.,  ..., 0., 0., 0.],\n",
      "          [0., 0., 0.,  ..., 0., 0., 0.],\n",
      "          ...,\n",
      "          [0., 0., 0.,  ..., 0., 0., 0.],\n",
      "          [0., 0., 0.,  ..., 0., 0., 0.],\n",
      "          [0., 0., 0.,  ..., 0., 0., 0.]]],\n",
      "\n",
      "\n",
      "        [[[0., 0., 0.,  ..., 0., 0., 0.],\n",
      "          [0., 0., 0.,  ..., 0., 0., 0.],\n",
      "          [0., 0., 0.,  ..., 0., 0., 0.],\n",
      "          ...,\n",
      "          [0., 0., 0.,  ..., 0., 0., 0.],\n",
      "          [0., 0., 0.,  ..., 0., 0., 0.],\n",
      "          [0., 0., 0.,  ..., 0., 0., 0.]]]]), tensor([0, 9, 1, 7, 3, 0, 3, 5, 7, 1])]\n"
     ]
    }
   ],
   "source": [
    "for data in trainset:  #prints 1 batch and the 10 tensors of the output\n",
    "    print(data)\n",
    "    break"
   ]
  },
  {
   "cell_type": "code",
   "execution_count": 193,
   "metadata": {},
   "outputs": [
    {
     "name": "stdout",
     "output_type": "stream",
     "text": [
      "tensor(0)\n"
     ]
    }
   ],
   "source": [
    "x, y = data[0][0], data[1][0]\n",
    "print(y)"
   ]
  },
  {
   "cell_type": "code",
   "execution_count": 194,
   "metadata": {},
   "outputs": [
    {
     "name": "stdout",
     "output_type": "stream",
     "text": [
      "torch.Size([1, 28, 28])\n"
     ]
    }
   ],
   "source": [
    "print(data[0][0].shape)"
   ]
  },
  {
   "cell_type": "code",
   "execution_count": 195,
   "metadata": {},
   "outputs": [
    {
     "data": {
      "image/png": "[encoded data removed]",
      "text/plain": [
       "<Figure size 432x288 with 1 Axes>"
      ]
     },
     "metadata": {
      "needs_background": "light"
     },
     "output_type": "display_data"
    }
   ],
   "source": [
    "plt.imshow(data[0][0].view(28,28))\n",
    "plt.show()"
   ]
  },
  {
   "cell_type": "code",
   "execution_count": 196,
   "metadata": {},
   "outputs": [],
   "source": [
    "#balancing = as the optimizer is trying to decrease the loss - does not know how godo it can get but trying to decrease it as easy as possible. 0-9. if class imbalance and 60% are 3s in the dataset; then adjust weights that quickly predict 3's and get stuck. can add in momentum and modify weights of specific weights (but want it as balanced as possible)"
   ]
  },
  {
   "cell_type": "code",
   "execution_count": 197,
   "metadata": {},
   "outputs": [
    {
     "name": "stdout",
     "output_type": "stream",
     "text": [
      "{0: 12000, 1: 12000, 2: 0, 3: 12000, 4: 0, 5: 6000, 6: 0, 7: 12000, 8: 0, 9: 6000}\n"
     ]
    }
   ],
   "source": [
    "total = 0 \n",
    "counter = {0:0, 1:0, 2:0, 3:0, 4:0, 5:0, 6:0, 7:0, 8:0, 9:0 }\n",
    "\n",
    "for i in trainset:\n",
    "    xs, ys = data\n",
    "    for y in ys:\n",
    "        counter[int(y)] +=1 \n",
    "        total +=1\n",
    "        \n",
    "print(counter)"
   ]
  },
  {
   "cell_type": "code",
   "execution_count": 198,
   "metadata": {},
   "outputs": [
    {
     "name": "stdout",
     "output_type": "stream",
     "text": [
      "0: 20.0\n",
      "1: 20.0\n",
      "2: 0.0\n",
      "3: 20.0\n",
      "4: 0.0\n",
      "5: 10.0\n",
      "6: 0.0\n",
      "7: 20.0\n",
      "8: 0.0\n",
      "9: 10.0\n"
     ]
    }
   ],
   "source": [
    "for i in counter:\n",
    "    print(f'{i}: {counter[i]/total*100}')"
   ]
  },
  {
   "cell_type": "code",
   "execution_count": null,
   "metadata": {},
   "outputs": [],
   "source": []
  },
  {
   "cell_type": "code",
   "execution_count": 199,
   "metadata": {},
   "outputs": [
    {
     "name": "stdout",
     "output_type": "stream",
     "text": [
      "torch.Size([128, 30])\n"
     ]
    },
    {
     "data": {
      "text/plain": [
       "torch.Size([128, 20])"
      ]
     },
     "execution_count": 199,
     "metadata": {},
     "output_type": "execute_result"
    }
   ],
   "source": [
    "m = nn.Linear(20, 30) #THE INPUT is 20 the output is 30\n",
    "input = torch.randn(128, 20) #you put in a torch with random #'s of a size of 128x20\n",
    "output = m(input) #transforming this 128x20 and \n",
    "print(output.size())\n",
    "torch.Size([128, 20])"
   ]
  },
  {
   "cell_type": "markdown",
   "metadata": {},
   "source": [
    "# p3 "
   ]
  },
  {
   "cell_type": "markdown",
   "metadata": {},
   "source": [
    "Next Steps for Week 4:\n",
    "Multilayer Perceptron using Iris dataset (1-2 hours) \n",
    "\n",
    "## Iris Dataset to make a multilayer preceptrion / image net 5-10 classes and build a CNN architecture\n",
    "### for multi-layer perceptron - simple classifier --> Iris Dataset\n",
    "\n",
    "\n",
    "## CNN from ImageNet prelabeled dataset (3-5 days) using PyTorch on Google Collab\n",
    "### Weight = Kernal in CNN after traversing the image\n",
    "\n",
    "striding, kernel learning ,residual block (res net became famous because of this) - incorporte new info \n",
    "from the original information\n",
    "travesing the image of the kernel\n",
    "\n",
    "\n",
    "\n",
    "\n",
    "\n",
    "\n",
    "\n",
    "Adam - variant of stocastic descent - momentum - instances where stuck at a minima but no the global minimum - extra coefficient to get out of the local minimas - saddle point\n",
    "\n",
    "multi-layer perceptron and basic CNN classifier + RNN's classifier -> thus use gated RNN's LSTMS - prevent gradients exploding or diminish GLU or LSTMS- fundamental understanding \n",
    "- use PyTorch\n"
   ]
  },
  {
   "cell_type": "markdown",
   "metadata": {},
   "source": [
    "# MLP - Iris Example - Base Logistic Regression"
   ]
  },
  {
   "cell_type": "code",
   "execution_count": 200,
   "metadata": {},
   "outputs": [],
   "source": [
    "iris = skdata.load_iris()\n"
   ]
  },
  {
   "cell_type": "code",
   "execution_count": 201,
   "metadata": {},
   "outputs": [
    {
     "name": "stdout",
     "output_type": "stream",
     "text": [
      "['sepal length (cm)', 'sepal width (cm)', 'petal length (cm)', 'petal width (cm)']\n",
      "(150, 4)\n"
     ]
    }
   ],
   "source": [
    "print(iris.feature_names)\n",
    "print(iris.data.shape)\n"
   ]
  },
  {
   "cell_type": "code",
   "execution_count": 202,
   "metadata": {},
   "outputs": [
    {
     "name": "stdout",
     "output_type": "stream",
     "text": [
      "(150,)\n",
      "['setosa' 'versicolor' 'virginica']\n"
     ]
    }
   ],
   "source": [
    "print(iris.target.shape)\n",
    "print(iris.target_names)"
   ]
  },
  {
   "cell_type": "code",
   "execution_count": 203,
   "metadata": {},
   "outputs": [
    {
     "data": {
      "text/plain": [
       "array([0, 0, 0, 0, 0, 0, 0, 0, 0, 0, 0, 0, 0, 0, 0, 0, 0, 0, 0, 0, 0, 0,\n",
       "       0, 0, 0, 0, 0, 0, 0, 0, 0, 0, 0, 0, 0, 0, 0, 0, 0, 0, 0, 0, 0, 0,\n",
       "       0, 0, 0, 0, 0, 0, 1, 1, 1, 1, 1, 1, 1, 1, 1, 1, 1, 1, 1, 1, 1, 1,\n",
       "       1, 1, 1, 1, 1, 1, 1, 1, 1, 1, 1, 1, 1, 1, 1, 1, 1, 1, 1, 1, 1, 1,\n",
       "       1, 1, 1, 1, 1, 1, 1, 1, 1, 1, 1, 1, 2, 2, 2, 2, 2, 2, 2, 2, 2, 2,\n",
       "       2, 2, 2, 2, 2, 2, 2, 2, 2, 2, 2, 2, 2, 2, 2, 2, 2, 2, 2, 2, 2, 2,\n",
       "       2, 2, 2, 2, 2, 2, 2, 2, 2, 2, 2, 2, 2, 2, 2, 2, 2, 2])"
      ]
     },
     "execution_count": 203,
     "metadata": {},
     "output_type": "execute_result"
    }
   ],
   "source": [
    "iris.target"
   ]
  },
  {
   "cell_type": "code",
   "execution_count": 204,
   "metadata": {},
   "outputs": [],
   "source": [
    "iris_data = iris.data\n",
    "\n"
   ]
  },
  {
   "cell_type": "code",
   "execution_count": 205,
   "metadata": {},
   "outputs": [
    {
     "data": {
      "text/plain": [
       "array([5.1, 3.5, 1.4, 0.2])"
      ]
     },
     "execution_count": 205,
     "metadata": {},
     "output_type": "execute_result"
    }
   ],
   "source": [
    "iris_data[0]"
   ]
  },
  {
   "cell_type": "code",
   "execution_count": 206,
   "metadata": {},
   "outputs": [
    {
     "data": {
      "text/plain": [
       "(150, 4)"
      ]
     },
     "execution_count": 206,
     "metadata": {},
     "output_type": "execute_result"
    }
   ],
   "source": [
    "iris_data.shape\n",
    "#has data on 150 irises of the 4 features above"
   ]
  },
  {
   "cell_type": "code",
   "execution_count": 207,
   "metadata": {},
   "outputs": [
    {
     "name": "stdout",
     "output_type": "stream",
     "text": [
      "['sepal length (cm)', 'sepal width (cm)', 'petal length (cm)', 'petal width (cm)']\n"
     ]
    }
   ],
   "source": [
    "features = iris.feature_names\n",
    "print(features)"
   ]
  },
  {
   "cell_type": "code",
   "execution_count": 208,
   "metadata": {},
   "outputs": [
    {
     "data": {
      "text/plain": [
       "array(['setosa', 'versicolor', 'virginica'], dtype='<U10')"
      ]
     },
     "execution_count": 208,
     "metadata": {},
     "output_type": "execute_result"
    }
   ],
   "source": [
    "iris.target_names #one hot encoding"
   ]
  },
  {
   "cell_type": "code",
   "execution_count": 209,
   "metadata": {},
   "outputs": [],
   "source": [
    "iris_y = iris.target"
   ]
  },
  {
   "cell_type": "code",
   "execution_count": 210,
   "metadata": {},
   "outputs": [
    {
     "data": {
      "text/plain": [
       "array([[5.1, 3.5, 1.4, 0.2],\n",
       "       [4.9, 3. , 1.4, 0.2],\n",
       "       [4.7, 3.2, 1.3, 0.2],\n",
       "       [4.6, 3.1, 1.5, 0.2],\n",
       "       [5. , 3.6, 1.4, 0.2]])"
      ]
     },
     "execution_count": 210,
     "metadata": {},
     "output_type": "execute_result"
    }
   ],
   "source": [
    "iris_data[:5] # shows first 5"
   ]
  },
  {
   "cell_type": "code",
   "execution_count": 41,
   "metadata": {},
   "outputs": [
    {
     "name": "stdout",
     "output_type": "stream",
     "text": [
      "5.1 4.9\n"
     ]
    }
   ],
   "source": [
    "x, y  = iris_data[0][0], iris_data[1][0]\n",
    "print(x,y)"
   ]
  },
  {
   "cell_type": "code",
   "execution_count": 42,
   "metadata": {},
   "outputs": [
    {
     "data": {
      "text/plain": [
       "(4,)"
      ]
     },
     "execution_count": 42,
     "metadata": {},
     "output_type": "execute_result"
    }
   ],
   "source": [
    "iris_data[0].shape"
   ]
  },
  {
   "cell_type": "code",
   "execution_count": 43,
   "metadata": {},
   "outputs": [
    {
     "data": {
      "text/plain": [
       "(150, 4)"
      ]
     },
     "execution_count": 43,
     "metadata": {},
     "output_type": "execute_result"
    }
   ],
   "source": [
    "iris_data.shape"
   ]
  },
  {
   "cell_type": "code",
   "execution_count": 44,
   "metadata": {},
   "outputs": [
    {
     "data": {
      "image/png": "[encoded data removed]",
      "text/plain": [
       "<Figure size 432x288 with 1 Axes>"
      ]
     },
     "metadata": {
      "needs_background": "light"
     },
     "output_type": "display_data"
    }
   ],
   "source": [
    "plt.imshow(iris_data, aspect = 'auto')\n",
    "plt.show()"
   ]
  },
  {
   "cell_type": "code",
   "execution_count": 45,
   "metadata": {},
   "outputs": [],
   "source": [
    "from sklearn.model_selection import train_test_split\n",
    "from sklearn.metrics import classification_report"
   ]
  },
  {
   "cell_type": "code",
   "execution_count": 46,
   "metadata": {},
   "outputs": [],
   "source": [
    "xtrain, xtest, ytrain, ytest = train_test_split(iris_data, iris_y, test_size = 0.2, random_state = 0)"
   ]
  },
  {
   "cell_type": "code",
   "execution_count": 47,
   "metadata": {},
   "outputs": [
    {
     "name": "stdout",
     "output_type": "stream",
     "text": [
      "(120, 4) (30, 4) (120,) (30,)\n"
     ]
    }
   ],
   "source": [
    "print(xtrain.shape, xtest.shape, ytrain.shape, ytest.shape)"
   ]
  },
  {
   "cell_type": "code",
   "execution_count": 48,
   "metadata": {},
   "outputs": [],
   "source": [
    "from sklearn.linear_model import LogisticRegression"
   ]
  },
  {
   "cell_type": "code",
   "execution_count": 49,
   "metadata": {},
   "outputs": [],
   "source": [
    "lr = LogisticRegression()"
   ]
  },
  {
   "cell_type": "code",
   "execution_count": 50,
   "metadata": {},
   "outputs": [
    {
     "name": "stderr",
     "output_type": "stream",
     "text": [
      "/Users/heoun/anaconda3/lib/python3.7/site-packages/sklearn/linear_model/logistic.py:432: FutureWarning: Default solver will be changed to 'lbfgs' in 0.22. Specify a solver to silence this warning.\n",
      "  FutureWarning)\n",
      "/Users/heoun/anaconda3/lib/python3.7/site-packages/sklearn/linear_model/logistic.py:469: FutureWarning: Default multi_class will be changed to 'auto' in 0.22. Specify the multi_class option to silence this warning.\n",
      "  \"this warning.\", FutureWarning)\n"
     ]
    },
    {
     "data": {
      "text/plain": [
       "LogisticRegression(C=1.0, class_weight=None, dual=False, fit_intercept=True,\n",
       "                   intercept_scaling=1, l1_ratio=None, max_iter=100,\n",
       "                   multi_class='warn', n_jobs=None, penalty='l2',\n",
       "                   random_state=None, solver='warn', tol=0.0001, verbose=0,\n",
       "                   warm_start=False)"
      ]
     },
     "execution_count": 50,
     "metadata": {},
     "output_type": "execute_result"
    }
   ],
   "source": [
    "lr.fit(xtrain,ytrain)"
   ]
  },
  {
   "cell_type": "code",
   "execution_count": 51,
   "metadata": {},
   "outputs": [],
   "source": [
    "ytest_pred = lr.predict(xtest)"
   ]
  },
  {
   "cell_type": "code",
   "execution_count": 52,
   "metadata": {},
   "outputs": [],
   "source": [
    "ytest_pred_prob = lr.predict_proba(xtest)"
   ]
  },
  {
   "cell_type": "code",
   "execution_count": 53,
   "metadata": {},
   "outputs": [
    {
     "data": {
      "text/plain": [
       "0.9666666666666667"
      ]
     },
     "execution_count": 53,
     "metadata": {},
     "output_type": "execute_result"
    }
   ],
   "source": [
    "lr.score(xtest,ytest)"
   ]
  },
  {
   "cell_type": "code",
   "execution_count": 54,
   "metadata": {},
   "outputs": [
    {
     "data": {
      "text/plain": [
       "['              precision    recall  f1-score   support',\n",
       " '',\n",
       " '           0      1.000     1.000     1.000        11',\n",
       " '           1      1.000     0.923     0.960        13',\n",
       " '           2      0.857     1.000     0.923         6',\n",
       " '',\n",
       " '    accuracy                          0.967        30',\n",
       " '   macro avg      0.952     0.974     0.961        30',\n",
       " 'weighted avg      0.971     0.967     0.967        30',\n",
       " '']"
      ]
     },
     "execution_count": 54,
     "metadata": {},
     "output_type": "execute_result"
    }
   ],
   "source": [
    "report = classification_report(ytest, ytest_pred, digits = 3)\n",
    "report.split('\\n')"
   ]
  },
  {
   "cell_type": "markdown",
   "metadata": {},
   "source": [
    "# MLP - Iris Example - NN\n",
    "\n",
    "Convert data from .csv file to a numpy array (Now this is your input data of size 150 x 4)\n",
    "Now make a random split of 120 samples as train and rest as test ( Note it has to be random)\n",
    "Now, your train data is of size 120 x 4 and test is 30 x 4.\n",
    "Resize the train and test array to a tensor of size N x N. You can use some pre-built methods in TF / keras to resize the arrays.\n",
    "Now you have a input (train and test) of size N X N, apply consecutive conv layers + relu + pool and a couple of fc layers in the end.\n",
    "Use a mean squared error as you have real-valued data and a good optimizer like Adam."
   ]
  },
  {
   "cell_type": "code",
   "execution_count": 183,
   "metadata": {},
   "outputs": [
    {
     "data": {
      "text/plain": [
       "(150, 4)"
      ]
     },
     "execution_count": 183,
     "metadata": {},
     "output_type": "execute_result"
    }
   ],
   "source": [
    "iris_data.shape\n"
   ]
  },
  {
   "cell_type": "code",
   "execution_count": 184,
   "metadata": {},
   "outputs": [
    {
     "data": {
      "text/plain": [
       "dtype('float64')"
      ]
     },
     "execution_count": 184,
     "metadata": {},
     "output_type": "execute_result"
    }
   ],
   "source": [
    "iris_data.dtype"
   ]
  },
  {
   "cell_type": "code",
   "execution_count": 185,
   "metadata": {},
   "outputs": [],
   "source": [
    "xtrain, xtest, ytrain, ytest = train_test_split(iris_data, iris_y, test_size = 0.2, random_state = 0)"
   ]
  },
  {
   "cell_type": "code",
   "execution_count": null,
   "metadata": {},
   "outputs": [],
   "source": []
  },
  {
   "cell_type": "code",
   "execution_count": 1,
   "metadata": {},
   "outputs": [],
   "source": [
    "\n",
    "# iris_dim = int(iris_data.shape[0]*.8)\n",
    "# c = numpy.c_[iris_data.reshape(len(a), -1), b.reshape(len(b), -1)]\n",
    "\n",
    "# #np.random.shuffle(iris_data)\n",
    "# xtrain, xtest = iris_data[:iris_dim], iris_data[iris_dim+1:] #instead of doing this convert this to a tensor?"
   ]
  },
  {
   "cell_type": "code",
   "execution_count": 59,
   "metadata": {},
   "outputs": [
    {
     "data": {
      "text/plain": [
       "array([4.9, 3. , 1.4, 0.2])"
      ]
     },
     "execution_count": 59,
     "metadata": {},
     "output_type": "execute_result"
    }
   ],
   "source": [
    "iris_data[1]"
   ]
  },
  {
   "cell_type": "markdown",
   "metadata": {},
   "source": [
    "# This is using the One Hot Encoding Approach - It does not work because of the issue of it being greater than the bounds of 0-1. Ask Shantanu"
   ]
  },
  {
   "cell_type": "code",
   "execution_count": 101,
   "metadata": {},
   "outputs": [],
   "source": [
    "from keras.utils import to_categorical"
   ]
  },
  {
   "cell_type": "code",
   "execution_count": 102,
   "metadata": {},
   "outputs": [],
   "source": [
    "iris_y_categ = to_categorical(iris_y) #need to remove onehot"
   ]
  },
  {
   "cell_type": "code",
   "execution_count": 103,
   "metadata": {},
   "outputs": [
    {
     "data": {
      "text/plain": [
       "array([1., 0., 0.], dtype=float32)"
      ]
     },
     "execution_count": 103,
     "metadata": {},
     "output_type": "execute_result"
    }
   ],
   "source": [
    "iris_y_categ[0]"
   ]
  },
  {
   "cell_type": "code",
   "execution_count": 104,
   "metadata": {},
   "outputs": [],
   "source": [
    "x_iris_tensor = torch.from_numpy(iris_data).float()\n",
    "y_iris_tensor = torch.from_numpy(iris_y_categ).float()\n",
    "#y_iris_tensor = torch.from_numpy(iris_y)"
   ]
  },
  {
   "cell_type": "code",
   "execution_count": 107,
   "metadata": {},
   "outputs": [
    {
     "data": {
      "text/plain": [
       "torch.Size([150, 4])"
      ]
     },
     "execution_count": 107,
     "metadata": {},
     "output_type": "execute_result"
    }
   ],
   "source": [
    "x_iris_tensor.shape"
   ]
  },
  {
   "cell_type": "code",
   "execution_count": null,
   "metadata": {},
   "outputs": [],
   "source": []
  },
  {
   "cell_type": "code",
   "execution_count": 106,
   "metadata": {},
   "outputs": [
    {
     "data": {
      "text/plain": [
       "torch.Size([150, 3])"
      ]
     },
     "execution_count": 106,
     "metadata": {},
     "output_type": "execute_result"
    }
   ],
   "source": [
    "y_iris_tensor.shape"
   ]
  },
  {
   "cell_type": "code",
   "execution_count": 116,
   "metadata": {},
   "outputs": [],
   "source": [
    "class net(nn.Module): #inheriting the Module from torch.nn.Module\n",
    "    ''' \n",
    "    This has the basic components of the NN\n",
    "    '''\n",
    "    def __init__(self, batch):\n",
    "        super(net, self).__init__()\n",
    "        self.batch = 10\n",
    "\n",
    "        self.relu = torch.nn.ReLU() #adds the relu function - relu(output)\n",
    "        self.drop = nn.Dropout()\n",
    "        self.mlp1 = nn.Linear(4, 64) #image is 28x28 or in this case 4 columns of dependent variables #input, output, bias is auto True y = xA^t + b\n",
    "        self.mlp2 = nn.Linear(64, 128)\n",
    "        self.mlp3 = nn.Linear(128, 3) #need final results to be the 3 different flowers availble\n",
    "    def forward(self, x):\n",
    "        layer1 = self.relu(self.mlp1(x))\n",
    "        layer11 = self.drop(layer1)\n",
    "        layer2 = self.relu(self.mlp2(layer11))\n",
    "        layer22 = self.drop(layer2)\n",
    "        y_prediction = self.relu(self.mlp3(layer22))\n",
    "        return y_prediction\n",
    "    \n"
   ]
  },
  {
   "cell_type": "code",
   "execution_count": null,
   "metadata": {},
   "outputs": [],
   "source": []
  },
  {
   "cell_type": "code",
   "execution_count": 117,
   "metadata": {},
   "outputs": [],
   "source": [
    "#binay cross entropy loss function - backprop - how we measure our loss\n",
    "loss_fun=torch.nn.CrossEntropyLoss()\n",
    "\n",
    "#BCELoss(size_average=True)\n",
    "mlp = net(10).float()\n",
    "#SGD optimizer\n",
    "#this is the sgd optimizer that then gets to the loss function learning rate of 0.01, momentum is  #learning rate\n",
    "opt= torch.optim.Adam(mlp.parameters(), lr = 0.01)\n",
    "#torch.optim.SGD(mlp.parameters(),lr=0.01, momentum = 0.9) \n",
    "batch_size = 10"
   ]
  },
  {
   "cell_type": "code",
   "execution_count": 118,
   "metadata": {},
   "outputs": [],
   "source": [
    "permutation = torch.randperm(x_iris_tensor.size()[0]) #Returns a random permutation of integers from 0 to n - 1 or in this case the 150 available\n"
   ]
  },
  {
   "cell_type": "code",
   "execution_count": 119,
   "metadata": {},
   "outputs": [],
   "source": [
    "# for input, target in dataset:\n",
    "#     optimizer.zero_grad()\n",
    "#     output = model(input)\n",
    "#     loss = loss_fn(output, target)\n",
    "#     loss.backward()\n",
    "#     optimizer.step()"
   ]
  },
  {
   "cell_type": "code",
   "execution_count": 120,
   "metadata": {},
   "outputs": [
    {
     "name": "stdout",
     "output_type": "stream",
     "text": [
      "Epoch: 0\n",
      "torch.Size([150, 3])\n",
      "torch.Size([150, 3])\n",
      "tensor([[0.0191, 0.0000, 0.0000],\n",
      "        [0.1348, 0.4057, 0.0000],\n",
      "        [0.0000, 0.2105, 0.0000],\n",
      "        [0.3385, 0.0042, 0.0000],\n",
      "        [0.0837, 0.3435, 0.0000],\n",
      "        [0.0000, 0.7128, 0.0000],\n",
      "        [0.0000, 0.5377, 0.0000],\n",
      "        [0.0798, 0.3776, 0.0000],\n",
      "        [0.0000, 0.3944, 0.0000],\n",
      "        [0.0056, 0.0000, 0.0944],\n",
      "        [0.1504, 0.1633, 0.0000],\n",
      "        [0.0000, 0.0050, 0.0000],\n",
      "        [0.7247, 0.2447, 0.0000],\n",
      "        [0.0000, 0.2127, 0.0000],\n",
      "        [0.9271, 0.2957, 0.0000],\n",
      "        [0.0000, 0.4526, 0.0000],\n",
      "        [0.4679, 0.5142, 0.0000],\n",
      "        [1.0226, 1.4789, 0.0000],\n",
      "        [0.0103, 0.0133, 0.0000],\n",
      "        [0.0000, 0.0646, 0.0000],\n",
      "        [0.0028, 0.1291, 0.0000],\n",
      "        [0.1869, 0.3605, 0.0000],\n",
      "        [0.2845, 0.2483, 0.0000],\n",
      "        [0.0740, 0.0000, 0.0000],\n",
      "        [0.6838, 0.9579, 0.0000],\n",
      "        [0.2973, 0.2497, 0.0000],\n",
      "        [0.1129, 0.2170, 0.0000],\n",
      "        [0.5016, 0.5606, 0.0000],\n",
      "        [0.0049, 0.2931, 0.0000],\n",
      "        [0.0746, 0.3492, 0.0000],\n",
      "        [0.7252, 0.0000, 0.0000],\n",
      "        [0.4095, 0.4973, 0.0000],\n",
      "        [0.9519, 0.4808, 0.0000],\n",
      "        [0.0000, 0.0000, 0.0000],\n",
      "        [0.3742, 0.0000, 0.0000],\n",
      "        [0.0000, 0.0000, 0.0000],\n",
      "        [0.0370, 0.0000, 0.0000],\n",
      "        [0.4898, 0.0000, 0.0000],\n",
      "        [0.0000, 0.0000, 0.0000],\n",
      "        [0.0000, 0.5261, 0.0000],\n",
      "        [0.0000, 0.2773, 0.0000],\n",
      "        [0.1203, 0.0000, 0.0000],\n",
      "        [0.1956, 0.1013, 0.0000],\n",
      "        [0.0570, 0.0000, 0.0000],\n",
      "        [0.0828, 0.1600, 0.3360],\n",
      "        [0.1228, 0.1943, 0.0000],\n",
      "        [0.5445, 0.4130, 0.0000],\n",
      "        [0.1457, 0.4584, 0.0000],\n",
      "        [0.0047, 0.0438, 0.0000],\n",
      "        [0.4101, 0.0000, 0.0000],\n",
      "        [0.0453, 0.0000, 0.0000],\n",
      "        [0.3796, 0.0000, 0.0000],\n",
      "        [0.2519, 0.5789, 0.0000],\n",
      "        [0.4582, 0.2752, 0.0000],\n",
      "        [0.1846, 0.6406, 0.0000],\n",
      "        [0.3212, 0.2120, 0.0000],\n",
      "        [0.4675, 0.2329, 0.0000],\n",
      "        [0.0000, 0.5802, 0.0000],\n",
      "        [0.8380, 0.4658, 0.0000],\n",
      "        [0.2435, 0.8357, 0.0000],\n",
      "        [0.5522, 0.5699, 0.0000],\n",
      "        [0.0000, 0.0000, 0.0000],\n",
      "        [0.3511, 0.0000, 0.0000],\n",
      "        [0.0000, 0.0000, 0.0000],\n",
      "        [0.0000, 0.0000, 0.0000],\n",
      "        [0.0000, 0.2605, 0.0000],\n",
      "        [0.0356, 0.0000, 0.0000],\n",
      "        [1.0106, 0.0000, 0.0000],\n",
      "        [0.4280, 0.2257, 0.0000],\n",
      "        [0.4600, 0.4635, 0.0000],\n",
      "        [0.0454, 0.4415, 0.0000],\n",
      "        [0.0000, 0.0000, 0.0000],\n",
      "        [0.6953, 0.0000, 0.0000],\n",
      "        [0.0000, 0.4263, 0.0000],\n",
      "        [0.6339, 0.0000, 0.0000],\n",
      "        [0.4934, 0.3071, 0.0000],\n",
      "        [0.1222, 0.2827, 0.0000],\n",
      "        [0.8353, 0.9486, 0.0000],\n",
      "        [0.0000, 0.0000, 0.0000],\n",
      "        [0.3860, 0.5276, 0.0000],\n",
      "        [0.9096, 0.0000, 0.0000],\n",
      "        [0.0089, 0.4580, 0.0000],\n",
      "        [0.3060, 0.4422, 0.2211],\n",
      "        [0.6929, 1.0677, 0.0477],\n",
      "        [0.0000, 0.7545, 0.8235],\n",
      "        [0.9294, 0.8267, 0.0000],\n",
      "        [0.6627, 0.1638, 0.0000],\n",
      "        [0.0772, 0.2450, 0.0000],\n",
      "        [0.9099, 0.8576, 0.1037],\n",
      "        [0.2462, 0.7677, 0.0198],\n",
      "        [0.7747, 0.0000, 0.0000],\n",
      "        [0.5309, 0.0404, 0.0000],\n",
      "        [1.3701, 0.5716, 0.0000],\n",
      "        [0.0000, 0.0000, 0.0000],\n",
      "        [0.0000, 0.0000, 0.0000],\n",
      "        [0.2049, 0.0413, 0.0000],\n",
      "        [0.6179, 0.2102, 0.0000],\n",
      "        [0.0000, 0.0000, 0.0000],\n",
      "        [0.0000, 0.0000, 0.0000],\n",
      "        [0.0035, 0.0000, 0.0000],\n",
      "        [1.1014, 0.1877, 0.0000],\n",
      "        [1.1005, 0.2908, 0.1441],\n",
      "        [0.1453, 0.0000, 0.0000],\n",
      "        [0.3491, 0.0000, 0.0000],\n",
      "        [0.3852, 0.1015, 0.0000],\n",
      "        [0.4122, 1.8122, 0.2034],\n",
      "        [0.2484, 0.1832, 0.0000],\n",
      "        [1.0307, 0.0000, 0.0000],\n",
      "        [0.9360, 0.9943, 0.0000],\n",
      "        [0.0000, 0.4836, 0.0000],\n",
      "        [1.2401, 0.6553, 0.0000],\n",
      "        [0.4249, 0.7709, 0.0000],\n",
      "        [0.0000, 0.1051, 0.0000],\n",
      "        [0.0150, 0.5683, 0.0000],\n",
      "        [0.0000, 0.3908, 0.0000],\n",
      "        [0.0000, 0.0000, 0.0000],\n",
      "        [1.3725, 0.0055, 0.0000],\n",
      "        [0.0000, 0.8980, 0.0000],\n",
      "        [0.3397, 0.3737, 0.0000],\n",
      "        [0.2195, 0.2679, 0.0000],\n",
      "        [0.0000, 0.7610, 0.0969],\n",
      "        [0.6032, 0.2586, 0.0000],\n",
      "        [0.0000, 0.0000, 0.0000],\n",
      "        [0.0492, 0.0000, 0.0000],\n",
      "        [0.9992, 0.7083, 0.2378],\n",
      "        [0.7201, 1.2252, 0.0000],\n",
      "        [0.4151, 0.2359, 0.0000],\n",
      "        [0.5362, 0.9062, 0.0000],\n",
      "        [0.6099, 0.0000, 0.0000],\n",
      "        [0.2878, 0.0000, 0.0000],\n",
      "        [0.0044, 0.0158, 0.6000],\n",
      "        [0.1343, 0.7857, 0.0000],\n",
      "        [0.2814, 0.0000, 0.0000],\n",
      "        [0.0000, 0.0000, 0.0000],\n",
      "        [0.0000, 0.0000, 0.0944],\n",
      "        [0.8466, 0.0466, 0.0000],\n",
      "        [0.1866, 0.8099, 0.0000],\n",
      "        [0.4695, 0.0000, 0.0000],\n",
      "        [0.1390, 0.7169, 0.0000],\n",
      "        [0.0000, 0.0000, 0.0000],\n",
      "        [0.0000, 0.3362, 0.0000],\n",
      "        [0.0000, 0.7204, 0.0000],\n",
      "        [0.0000, 0.0000, 0.0000],\n",
      "        [0.4721, 0.6138, 0.0000],\n",
      "        [0.1216, 0.4279, 0.0000],\n",
      "        [1.5965, 0.0000, 0.6351],\n",
      "        [0.0000, 0.1180, 0.0000],\n",
      "        [0.2775, 0.6097, 0.0000],\n",
      "        [1.0177, 1.1600, 0.0000],\n",
      "        [0.8726, 0.0000, 0.0000]], grad_fn=<ReluBackward0>)\n"
     ]
    },
    {
     "ename": "RuntimeError",
     "evalue": "1D target tensor expected, multi-target not supported",
     "output_type": "error",
     "traceback": [
      "\u001b[0;31m---------------------------------------------------------------------------\u001b[0m",
      "\u001b[0;31mRuntimeError\u001b[0m                              Traceback (most recent call last)",
      "\u001b[0;32m<ipython-input-120-aef9599d177b>\u001b[0m in \u001b[0;36m<module>\u001b[0;34m\u001b[0m\n\u001b[1;32m     13\u001b[0m     \u001b[0mprint\u001b[0m\u001b[0;34m(\u001b[0m\u001b[0my_pred_val\u001b[0m\u001b[0;34m)\u001b[0m\u001b[0;34m\u001b[0m\u001b[0;34m\u001b[0m\u001b[0m\n\u001b[1;32m     14\u001b[0m \u001b[0;34m\u001b[0m\u001b[0m\n\u001b[0;32m---> 15\u001b[0;31m     \u001b[0mloss\u001b[0m\u001b[0;34m=\u001b[0m\u001b[0mloss_fun\u001b[0m\u001b[0;34m(\u001b[0m\u001b[0my_pred_val\u001b[0m\u001b[0;34m,\u001b[0m\u001b[0my_iris_tensor\u001b[0m\u001b[0;34m)\u001b[0m\u001b[0;34m\u001b[0m\u001b[0;34m\u001b[0m\u001b[0m\n\u001b[0m\u001b[1;32m     16\u001b[0m     \u001b[0mloss_array\u001b[0m\u001b[0;34m.\u001b[0m\u001b[0mappend\u001b[0m\u001b[0;34m(\u001b[0m\u001b[0mloss\u001b[0m\u001b[0;34m)\u001b[0m\u001b[0;34m\u001b[0m\u001b[0;34m\u001b[0m\u001b[0m\n\u001b[1;32m     17\u001b[0m \u001b[0;34m\u001b[0m\u001b[0m\n",
      "\u001b[0;32m~/anaconda3/lib/python3.7/site-packages/torch/nn/modules/module.py\u001b[0m in \u001b[0;36m__call__\u001b[0;34m(self, *input, **kwargs)\u001b[0m\n\u001b[1;32m    548\u001b[0m             \u001b[0mresult\u001b[0m \u001b[0;34m=\u001b[0m \u001b[0mself\u001b[0m\u001b[0;34m.\u001b[0m\u001b[0m_slow_forward\u001b[0m\u001b[0;34m(\u001b[0m\u001b[0;34m*\u001b[0m\u001b[0minput\u001b[0m\u001b[0;34m,\u001b[0m \u001b[0;34m**\u001b[0m\u001b[0mkwargs\u001b[0m\u001b[0;34m)\u001b[0m\u001b[0;34m\u001b[0m\u001b[0;34m\u001b[0m\u001b[0m\n\u001b[1;32m    549\u001b[0m         \u001b[0;32melse\u001b[0m\u001b[0;34m:\u001b[0m\u001b[0;34m\u001b[0m\u001b[0;34m\u001b[0m\u001b[0m\n\u001b[0;32m--> 550\u001b[0;31m             \u001b[0mresult\u001b[0m \u001b[0;34m=\u001b[0m \u001b[0mself\u001b[0m\u001b[0;34m.\u001b[0m\u001b[0mforward\u001b[0m\u001b[0;34m(\u001b[0m\u001b[0;34m*\u001b[0m\u001b[0minput\u001b[0m\u001b[0;34m,\u001b[0m \u001b[0;34m**\u001b[0m\u001b[0mkwargs\u001b[0m\u001b[0;34m)\u001b[0m\u001b[0;34m\u001b[0m\u001b[0;34m\u001b[0m\u001b[0m\n\u001b[0m\u001b[1;32m    551\u001b[0m         \u001b[0;32mfor\u001b[0m \u001b[0mhook\u001b[0m \u001b[0;32min\u001b[0m \u001b[0mself\u001b[0m\u001b[0;34m.\u001b[0m\u001b[0m_forward_hooks\u001b[0m\u001b[0;34m.\u001b[0m\u001b[0mvalues\u001b[0m\u001b[0;34m(\u001b[0m\u001b[0;34m)\u001b[0m\u001b[0;34m:\u001b[0m\u001b[0;34m\u001b[0m\u001b[0;34m\u001b[0m\u001b[0m\n\u001b[1;32m    552\u001b[0m             \u001b[0mhook_result\u001b[0m \u001b[0;34m=\u001b[0m \u001b[0mhook\u001b[0m\u001b[0;34m(\u001b[0m\u001b[0mself\u001b[0m\u001b[0;34m,\u001b[0m \u001b[0minput\u001b[0m\u001b[0;34m,\u001b[0m \u001b[0mresult\u001b[0m\u001b[0;34m)\u001b[0m\u001b[0;34m\u001b[0m\u001b[0;34m\u001b[0m\u001b[0m\n",
      "\u001b[0;32m~/anaconda3/lib/python3.7/site-packages/torch/nn/modules/loss.py\u001b[0m in \u001b[0;36mforward\u001b[0;34m(self, input, target)\u001b[0m\n\u001b[1;32m    930\u001b[0m     \u001b[0;32mdef\u001b[0m \u001b[0mforward\u001b[0m\u001b[0;34m(\u001b[0m\u001b[0mself\u001b[0m\u001b[0;34m,\u001b[0m \u001b[0minput\u001b[0m\u001b[0;34m,\u001b[0m \u001b[0mtarget\u001b[0m\u001b[0;34m)\u001b[0m\u001b[0;34m:\u001b[0m\u001b[0;34m\u001b[0m\u001b[0;34m\u001b[0m\u001b[0m\n\u001b[1;32m    931\u001b[0m         return F.cross_entropy(input, target, weight=self.weight,\n\u001b[0;32m--> 932\u001b[0;31m                                ignore_index=self.ignore_index, reduction=self.reduction)\n\u001b[0m\u001b[1;32m    933\u001b[0m \u001b[0;34m\u001b[0m\u001b[0m\n\u001b[1;32m    934\u001b[0m \u001b[0;34m\u001b[0m\u001b[0m\n",
      "\u001b[0;32m~/anaconda3/lib/python3.7/site-packages/torch/nn/functional.py\u001b[0m in \u001b[0;36mcross_entropy\u001b[0;34m(input, target, weight, size_average, ignore_index, reduce, reduction)\u001b[0m\n\u001b[1;32m   2315\u001b[0m     \u001b[0;32mif\u001b[0m \u001b[0msize_average\u001b[0m \u001b[0;32mis\u001b[0m \u001b[0;32mnot\u001b[0m \u001b[0;32mNone\u001b[0m \u001b[0;32mor\u001b[0m \u001b[0mreduce\u001b[0m \u001b[0;32mis\u001b[0m \u001b[0;32mnot\u001b[0m \u001b[0;32mNone\u001b[0m\u001b[0;34m:\u001b[0m\u001b[0;34m\u001b[0m\u001b[0;34m\u001b[0m\u001b[0m\n\u001b[1;32m   2316\u001b[0m         \u001b[0mreduction\u001b[0m \u001b[0;34m=\u001b[0m \u001b[0m_Reduction\u001b[0m\u001b[0;34m.\u001b[0m\u001b[0mlegacy_get_string\u001b[0m\u001b[0;34m(\u001b[0m\u001b[0msize_average\u001b[0m\u001b[0;34m,\u001b[0m \u001b[0mreduce\u001b[0m\u001b[0;34m)\u001b[0m\u001b[0;34m\u001b[0m\u001b[0;34m\u001b[0m\u001b[0m\n\u001b[0;32m-> 2317\u001b[0;31m     \u001b[0;32mreturn\u001b[0m \u001b[0mnll_loss\u001b[0m\u001b[0;34m(\u001b[0m\u001b[0mlog_softmax\u001b[0m\u001b[0;34m(\u001b[0m\u001b[0minput\u001b[0m\u001b[0;34m,\u001b[0m \u001b[0;36m1\u001b[0m\u001b[0;34m)\u001b[0m\u001b[0;34m,\u001b[0m \u001b[0mtarget\u001b[0m\u001b[0;34m,\u001b[0m \u001b[0mweight\u001b[0m\u001b[0;34m,\u001b[0m \u001b[0;32mNone\u001b[0m\u001b[0;34m,\u001b[0m \u001b[0mignore_index\u001b[0m\u001b[0;34m,\u001b[0m \u001b[0;32mNone\u001b[0m\u001b[0;34m,\u001b[0m \u001b[0mreduction\u001b[0m\u001b[0;34m)\u001b[0m\u001b[0;34m\u001b[0m\u001b[0;34m\u001b[0m\u001b[0m\n\u001b[0m\u001b[1;32m   2318\u001b[0m \u001b[0;34m\u001b[0m\u001b[0m\n\u001b[1;32m   2319\u001b[0m \u001b[0;34m\u001b[0m\u001b[0m\n",
      "\u001b[0;32m~/anaconda3/lib/python3.7/site-packages/torch/nn/functional.py\u001b[0m in \u001b[0;36mnll_loss\u001b[0;34m(input, target, weight, size_average, ignore_index, reduce, reduction)\u001b[0m\n\u001b[1;32m   2113\u001b[0m                          .format(input.size(0), target.size(0)))\n\u001b[1;32m   2114\u001b[0m     \u001b[0;32mif\u001b[0m \u001b[0mdim\u001b[0m \u001b[0;34m==\u001b[0m \u001b[0;36m2\u001b[0m\u001b[0;34m:\u001b[0m\u001b[0;34m\u001b[0m\u001b[0;34m\u001b[0m\u001b[0m\n\u001b[0;32m-> 2115\u001b[0;31m         \u001b[0mret\u001b[0m \u001b[0;34m=\u001b[0m \u001b[0mtorch\u001b[0m\u001b[0;34m.\u001b[0m\u001b[0m_C\u001b[0m\u001b[0;34m.\u001b[0m\u001b[0m_nn\u001b[0m\u001b[0;34m.\u001b[0m\u001b[0mnll_loss\u001b[0m\u001b[0;34m(\u001b[0m\u001b[0minput\u001b[0m\u001b[0;34m,\u001b[0m \u001b[0mtarget\u001b[0m\u001b[0;34m,\u001b[0m \u001b[0mweight\u001b[0m\u001b[0;34m,\u001b[0m \u001b[0m_Reduction\u001b[0m\u001b[0;34m.\u001b[0m\u001b[0mget_enum\u001b[0m\u001b[0;34m(\u001b[0m\u001b[0mreduction\u001b[0m\u001b[0;34m)\u001b[0m\u001b[0;34m,\u001b[0m \u001b[0mignore_index\u001b[0m\u001b[0;34m)\u001b[0m\u001b[0;34m\u001b[0m\u001b[0;34m\u001b[0m\u001b[0m\n\u001b[0m\u001b[1;32m   2116\u001b[0m     \u001b[0;32melif\u001b[0m \u001b[0mdim\u001b[0m \u001b[0;34m==\u001b[0m \u001b[0;36m4\u001b[0m\u001b[0;34m:\u001b[0m\u001b[0;34m\u001b[0m\u001b[0;34m\u001b[0m\u001b[0m\n\u001b[1;32m   2117\u001b[0m         \u001b[0mret\u001b[0m \u001b[0;34m=\u001b[0m \u001b[0mtorch\u001b[0m\u001b[0;34m.\u001b[0m\u001b[0m_C\u001b[0m\u001b[0;34m.\u001b[0m\u001b[0m_nn\u001b[0m\u001b[0;34m.\u001b[0m\u001b[0mnll_loss2d\u001b[0m\u001b[0;34m(\u001b[0m\u001b[0minput\u001b[0m\u001b[0;34m,\u001b[0m \u001b[0mtarget\u001b[0m\u001b[0;34m,\u001b[0m \u001b[0mweight\u001b[0m\u001b[0;34m,\u001b[0m \u001b[0m_Reduction\u001b[0m\u001b[0;34m.\u001b[0m\u001b[0mget_enum\u001b[0m\u001b[0;34m(\u001b[0m\u001b[0mreduction\u001b[0m\u001b[0;34m)\u001b[0m\u001b[0;34m,\u001b[0m \u001b[0mignore_index\u001b[0m\u001b[0;34m)\u001b[0m\u001b[0;34m\u001b[0m\u001b[0;34m\u001b[0m\u001b[0m\n",
      "\u001b[0;31mRuntimeError\u001b[0m: 1D target tensor expected, multi-target not supported"
     ]
    }
   ],
   "source": [
    "#training\n",
    "loss_array = [] \n",
    "for epoch in range(100):\n",
    "    print(\"Epoch: \" + str(epoch))\n",
    "    #for i in range(0,x_iris_tensor.size()[0],batch_size):\n",
    "        #print(\"batch: \" + str(i))\n",
    "        #indices = permutation[i:i+batch_size]\n",
    "       # batch_x, batch_y = x_iris_tensor[indices], y_iris_tensor[indices]\n",
    "    y_pred_val=mlp.forward(x_iris_tensor)\n",
    "\n",
    "    print(y_pred_val.shape)\n",
    "    print(y_iris_tensor.shape)\n",
    "    print(y_pred_val)\n",
    "\n",
    "    loss=loss_fun(y_pred_val,y_iris_tensor)\n",
    "    loss_array.append(loss)\n",
    "\n",
    "    if i % 10 == 0:\n",
    "        print(f'Epoch: {i} Loss: {loss}')\n",
    "\n",
    "    opt.zero_grad()\n",
    "    loss.backward()\n",
    "    opt.step()"
   ]
  },
  {
   "cell_type": "code",
   "execution_count": null,
   "metadata": {},
   "outputs": [],
   "source": [
    "loss_array"
   ]
  },
  {
   "cell_type": "code",
   "execution_count": null,
   "metadata": {},
   "outputs": [],
   "source": []
  },
  {
   "cell_type": "markdown",
   "metadata": {},
   "source": [
    "# This is using the One column with different vars Approach"
   ]
  },
  {
   "cell_type": "code",
   "execution_count": 60,
   "metadata": {},
   "outputs": [
    {
     "name": "stderr",
     "output_type": "stream",
     "text": [
      "Using TensorFlow backend.\n"
     ]
    }
   ],
   "source": []
  },
  {
   "cell_type": "code",
   "execution_count": 235,
   "metadata": {},
   "outputs": [
    {
     "data": {
      "text/plain": [
       "torch.Size([150])"
      ]
     },
     "execution_count": 235,
     "metadata": {},
     "output_type": "execute_result"
    }
   ],
   "source": [
    "y_iris_tensor.shape"
   ]
  },
  {
   "cell_type": "code",
   "execution_count": null,
   "metadata": {},
   "outputs": [],
   "source": []
  },
  {
   "cell_type": "code",
   "execution_count": 236,
   "metadata": {},
   "outputs": [],
   "source": [
    "#iris_y_formated = np.expand_dims(iris_y, axis = 1)\n"
   ]
  },
  {
   "cell_type": "code",
   "execution_count": 237,
   "metadata": {},
   "outputs": [],
   "source": [
    "x_iris_tensor = torch.from_numpy(iris_data).float()\n",
    "# y_iris_tensor = torch.from_numpy(iris_y_categ).float()\n",
    "#y_iris_tensor = np.squeeze(y_iris_tensor)\n",
    "y_iris_tensor = torch.LongTensor(iris_y)"
   ]
  },
  {
   "cell_type": "code",
   "execution_count": 238,
   "metadata": {},
   "outputs": [
    {
     "data": {
      "text/plain": [
       "torch.Size([150, 4])"
      ]
     },
     "execution_count": 238,
     "metadata": {},
     "output_type": "execute_result"
    }
   ],
   "source": [
    "x_iris_tensor.shape"
   ]
  },
  {
   "cell_type": "code",
   "execution_count": 239,
   "metadata": {},
   "outputs": [
    {
     "data": {
      "text/plain": [
       "torch.Size([150])"
      ]
     },
     "execution_count": 239,
     "metadata": {},
     "output_type": "execute_result"
    }
   ],
   "source": [
    "y_iris_tensor.shape"
   ]
  },
  {
   "cell_type": "code",
   "execution_count": 280,
   "metadata": {},
   "outputs": [],
   "source": [
    "class net(nn.Module): #inheriting the Module from torch.nn.Module\n",
    "    ''' \n",
    "    This has the basic components of the NN\n",
    "    '''\n",
    "    def __init__(self, batch):\n",
    "        super(net, self).__init__()\n",
    "        self.batch = 10\n",
    "\n",
    "        self.relu = torch.nn.ReLU() #adds the relu function - relu(output)\n",
    "        self.drop = nn.Dropout()\n",
    "        self.mlp1 = nn.Linear(4, 128) #image is 28x28 or in this case 4 columns of dependent variables #input, output, bias is auto True y = xA^t + b\n",
    "        self.mlp2 = nn.Linear(128, 12)\n",
    "        self.mlp3 = nn.Linear(12, 3) #need final results to be the 3 different flowers availble\n",
    "    def forward(self, x):\n",
    "        layer1 = self.relu(self.mlp1(x))\n",
    "        layer11 = self.drop(layer1)\n",
    "        layer2 = self.relu(self.mlp2(layer11))\n",
    "        layer22 = self.drop(layer2)\n",
    "        y_prediction = self.relu(self.mlp3(layer2))\n",
    "        return y_prediction\n",
    "    \n"
   ]
  },
  {
   "cell_type": "code",
   "execution_count": null,
   "metadata": {},
   "outputs": [],
   "source": []
  },
  {
   "cell_type": "code",
   "execution_count": 281,
   "metadata": {},
   "outputs": [],
   "source": [
    "#binay cross entropy loss function - backprop - how we measure our loss\n",
    "#loss_fun=torch.nn.BCELoss(reduce = False)\n",
    "loss_fun=torch.nn.CrossEntropyLoss()\n",
    "mlp = net(10).float()\n",
    "#SGD optimizer\n",
    "#this is the sgd optimizer that then gets to the loss function learning rate of 0.01, momentum is  #learning rate\n",
    "opt= torch.optim.SGD(mlp.parameters(),lr=0.01, momentum = 0.9) \n",
    "batch_size = 10"
   ]
  },
  {
   "cell_type": "code",
   "execution_count": 282,
   "metadata": {},
   "outputs": [],
   "source": [
    "permutation = torch.randperm(x_iris_tensor.size()[0]) #Returns a random permutation of integers from 0 to n - 1 or in this case the 150 available\n",
    "\n",
    "\n",
    "\n"
   ]
  },
  {
   "cell_type": "code",
   "execution_count": 283,
   "metadata": {},
   "outputs": [],
   "source": [
    "# for input, target in dataset:\n",
    "#     optimizer.zero_grad()\n",
    "#     output = model(input)\n",
    "#     loss = loss_fn(output, target)\n",
    "#     loss.backward()\n",
    "#     optimizer.step()"
   ]
  },
  {
   "cell_type": "code",
   "execution_count": 284,
   "metadata": {},
   "outputs": [
    {
     "name": "stdout",
     "output_type": "stream",
     "text": [
      "Epoch: 0 Loss: 1.1238269805908203\n",
      "Epoch: 10 Loss: 1.019579529762268\n",
      "Epoch: 20 Loss: 0.8482896685600281\n",
      "Epoch: 30 Loss: 0.6058668494224548\n",
      "Epoch: 40 Loss: 0.4494011402130127\n",
      "Epoch: 50 Loss: 0.4307299256324768\n",
      "Epoch: 60 Loss: 0.37817659974098206\n",
      "Epoch: 70 Loss: 0.29017290472984314\n",
      "Epoch: 80 Loss: 0.2940356731414795\n",
      "Epoch: 90 Loss: 0.28316938877105713\n"
     ]
    }
   ],
   "source": [
    "#training\n",
    "loss_array = [] \n",
    "for epoch in range(100):\n",
    "\n",
    "#     for i in range(0,x_iris_tensor.size()[0],batch_size):\n",
    "#         print(\"batch: \" + str(i))\n",
    "#         indices = permutation[i:i+batch_size]\n",
    "#         batch_x, batch_y = x_iris_tensor[indices], y_iris_tensor[indices]\n",
    "        y_pred_val=mlp.forward(x_iris_tensor)\n",
    "\n",
    "        loss=loss_fun(y_pred_val,y_iris_tensor)\n",
    "        loss_array.append(loss)\n",
    "\n",
    "        if epoch % 10 == 0:\n",
    "            print(f'Epoch: {epoch} Loss: {loss}')\n",
    "\n",
    "        opt.zero_grad()\n",
    "        loss.backward()\n",
    "        opt.step()"
   ]
  },
  {
   "cell_type": "code",
   "execution_count": 274,
   "metadata": {},
   "outputs": [
    {
     "data": {
      "text/plain": [
       "[tensor(1.1287, grad_fn=<NllLossBackward>),\n",
       " tensor(1.1261, grad_fn=<NllLossBackward>),\n",
       " tensor(1.1212, grad_fn=<NllLossBackward>),\n",
       " tensor(1.1148, grad_fn=<NllLossBackward>),\n",
       " tensor(1.1074, grad_fn=<NllLossBackward>),\n",
       " tensor(1.0998, grad_fn=<NllLossBackward>),\n",
       " tensor(1.0919, grad_fn=<NllLossBackward>),\n",
       " tensor(1.0838, grad_fn=<NllLossBackward>),\n",
       " tensor(1.0757, grad_fn=<NllLossBackward>),\n",
       " tensor(1.0680, grad_fn=<NllLossBackward>),\n",
       " tensor(1.0608, grad_fn=<NllLossBackward>),\n",
       " tensor(1.0538, grad_fn=<NllLossBackward>),\n",
       " tensor(1.0472, grad_fn=<NllLossBackward>),\n",
       " tensor(1.0409, grad_fn=<NllLossBackward>),\n",
       " tensor(1.0369, grad_fn=<NllLossBackward>),\n",
       " tensor(1.0381, grad_fn=<NllLossBackward>),\n",
       " tensor(1.0388, grad_fn=<NllLossBackward>),\n",
       " tensor(1.0373, grad_fn=<NllLossBackward>),\n",
       " tensor(1.0336, grad_fn=<NllLossBackward>),\n",
       " tensor(1.0279, grad_fn=<NllLossBackward>),\n",
       " tensor(1.0210, grad_fn=<NllLossBackward>),\n",
       " tensor(1.0141, grad_fn=<NllLossBackward>),\n",
       " tensor(1.0091, grad_fn=<NllLossBackward>),\n",
       " tensor(1.0058, grad_fn=<NllLossBackward>),\n",
       " tensor(1.0026, grad_fn=<NllLossBackward>),\n",
       " tensor(0.9985, grad_fn=<NllLossBackward>),\n",
       " tensor(0.9931, grad_fn=<NllLossBackward>),\n",
       " tensor(0.9865, grad_fn=<NllLossBackward>),\n",
       " tensor(0.9789, grad_fn=<NllLossBackward>),\n",
       " tensor(0.9711, grad_fn=<NllLossBackward>),\n",
       " tensor(0.9639, grad_fn=<NllLossBackward>),\n",
       " tensor(0.9576, grad_fn=<NllLossBackward>),\n",
       " tensor(0.9518, grad_fn=<NllLossBackward>),\n",
       " tensor(0.9456, grad_fn=<NllLossBackward>),\n",
       " tensor(0.9384, grad_fn=<NllLossBackward>),\n",
       " tensor(0.9303, grad_fn=<NllLossBackward>),\n",
       " tensor(0.9218, grad_fn=<NllLossBackward>),\n",
       " tensor(0.9137, grad_fn=<NllLossBackward>),\n",
       " tensor(0.9059, grad_fn=<NllLossBackward>),\n",
       " tensor(0.8981, grad_fn=<NllLossBackward>),\n",
       " tensor(0.8900, grad_fn=<NllLossBackward>),\n",
       " tensor(0.8814, grad_fn=<NllLossBackward>),\n",
       " tensor(0.8724, grad_fn=<NllLossBackward>),\n",
       " tensor(0.8632, grad_fn=<NllLossBackward>),\n",
       " tensor(0.8542, grad_fn=<NllLossBackward>),\n",
       " tensor(0.8454, grad_fn=<NllLossBackward>),\n",
       " tensor(0.8367, grad_fn=<NllLossBackward>),\n",
       " tensor(0.8279, grad_fn=<NllLossBackward>),\n",
       " tensor(0.8189, grad_fn=<NllLossBackward>),\n",
       " tensor(0.8098, grad_fn=<NllLossBackward>),\n",
       " tensor(0.8008, grad_fn=<NllLossBackward>),\n",
       " tensor(0.7921, grad_fn=<NllLossBackward>),\n",
       " tensor(0.7837, grad_fn=<NllLossBackward>),\n",
       " tensor(0.7754, grad_fn=<NllLossBackward>),\n",
       " tensor(0.7671, grad_fn=<NllLossBackward>),\n",
       " tensor(0.7589, grad_fn=<NllLossBackward>),\n",
       " tensor(0.7507, grad_fn=<NllLossBackward>),\n",
       " tensor(0.7426, grad_fn=<NllLossBackward>),\n",
       " tensor(0.7346, grad_fn=<NllLossBackward>),\n",
       " tensor(0.7269, grad_fn=<NllLossBackward>),\n",
       " tensor(0.7194, grad_fn=<NllLossBackward>),\n",
       " tensor(0.7122, grad_fn=<NllLossBackward>),\n",
       " tensor(0.7050, grad_fn=<NllLossBackward>),\n",
       " tensor(0.6979, grad_fn=<NllLossBackward>),\n",
       " tensor(0.6912, grad_fn=<NllLossBackward>),\n",
       " tensor(0.6848, grad_fn=<NllLossBackward>),\n",
       " tensor(0.6789, grad_fn=<NllLossBackward>),\n",
       " tensor(0.6731, grad_fn=<NllLossBackward>),\n",
       " tensor(0.6675, grad_fn=<NllLossBackward>),\n",
       " tensor(0.6620, grad_fn=<NllLossBackward>),\n",
       " tensor(0.6566, grad_fn=<NllLossBackward>),\n",
       " tensor(0.6516, grad_fn=<NllLossBackward>),\n",
       " tensor(0.6468, grad_fn=<NllLossBackward>),\n",
       " tensor(0.6423, grad_fn=<NllLossBackward>),\n",
       " tensor(0.6380, grad_fn=<NllLossBackward>),\n",
       " tensor(0.6338, grad_fn=<NllLossBackward>),\n",
       " tensor(0.6297, grad_fn=<NllLossBackward>),\n",
       " tensor(0.6257, grad_fn=<NllLossBackward>),\n",
       " tensor(0.6220, grad_fn=<NllLossBackward>),\n",
       " tensor(0.6184, grad_fn=<NllLossBackward>),\n",
       " tensor(0.6149, grad_fn=<NllLossBackward>),\n",
       " tensor(0.6114, grad_fn=<NllLossBackward>),\n",
       " tensor(0.6078, grad_fn=<NllLossBackward>),\n",
       " tensor(0.6043, grad_fn=<NllLossBackward>),\n",
       " tensor(0.6006, grad_fn=<NllLossBackward>),\n",
       " tensor(0.5970, grad_fn=<NllLossBackward>),\n",
       " tensor(0.5935, grad_fn=<NllLossBackward>),\n",
       " tensor(0.5900, grad_fn=<NllLossBackward>),\n",
       " tensor(0.5863, grad_fn=<NllLossBackward>),\n",
       " tensor(0.5826, grad_fn=<NllLossBackward>),\n",
       " tensor(0.5788, grad_fn=<NllLossBackward>),\n",
       " tensor(0.5753, grad_fn=<NllLossBackward>),\n",
       " tensor(0.5721, grad_fn=<NllLossBackward>),\n",
       " tensor(0.5691, grad_fn=<NllLossBackward>),\n",
       " tensor(0.5662, grad_fn=<NllLossBackward>),\n",
       " tensor(0.5634, grad_fn=<NllLossBackward>),\n",
       " tensor(0.5605, grad_fn=<NllLossBackward>),\n",
       " tensor(0.5577, grad_fn=<NllLossBackward>),\n",
       " tensor(0.5549, grad_fn=<NllLossBackward>),\n",
       " tensor(0.5521, grad_fn=<NllLossBackward>)]"
      ]
     },
     "execution_count": 274,
     "metadata": {},
     "output_type": "execute_result"
    }
   ],
   "source": [
    "loss_array"
   ]
  },
  {
   "cell_type": "code",
   "execution_count": null,
   "metadata": {},
   "outputs": [],
   "source": []
  },
  {
   "cell_type": "code",
   "execution_count": null,
   "metadata": {},
   "outputs": [],
   "source": []
  },
  {
   "cell_type": "code",
   "execution_count": null,
   "metadata": {},
   "outputs": [],
   "source": []
  },
  {
   "cell_type": "code",
   "execution_count": null,
   "metadata": {},
   "outputs": [],
   "source": []
  },
  {
   "cell_type": "code",
   "execution_count": null,
   "metadata": {},
   "outputs": [],
   "source": []
  },
  {
   "cell_type": "code",
   "execution_count": null,
   "metadata": {},
   "outputs": [],
   "source": []
  }
 ],
 "metadata": {
  "kernelspec": {
   "display_name": "Python 3",
   "language": "python",
   "name": "python3"
  },
  "language_info": {
   "codemirror_mode": {
    "name": "ipython",
    "version": 3
   },
   "file_extension": ".py",
   "mimetype": "text/x-python",
   "name": "python",
   "nbconvert_exporter": "python",
   "pygments_lexer": "ipython3",
   "version": "3.7.4"
  }
 },
 "nbformat": 4,
 "nbformat_minor": 4
}
