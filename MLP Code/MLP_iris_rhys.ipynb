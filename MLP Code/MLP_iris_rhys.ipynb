{
 "cells": [
  {
   "cell_type": "code",
   "execution_count": 64,
   "metadata": {},
   "outputs": [],
   "source": [
    "#! pip install torch\n",
    "#! pip install torchvision"
   ]
  },
  {
   "cell_type": "code",
   "execution_count": 78,
   "metadata": {},
   "outputs": [],
   "source": [
    "import os\n",
    "import pandas as pd\n",
    "import numpy as np\n",
    "import torch\n",
    "import torch.nn as nn\n",
    "import torch.nn.functional as F\n",
    "from torch.autograd import Variable\n",
    "from sklearn.model_selection import train_test_split\n",
    "from sklearn.metrics import accuracy_score, precision_score, recall_score\n",
    "from sklearn.datasets import load_iris\n",
    "from keras.utils import to_categorical"
   ]
  },
  {
   "cell_type": "code",
   "execution_count": 79,
   "metadata": {},
   "outputs": [
    {
     "data": {
      "text/plain": [
       "'/Users/rhyschua/Desktop/Capstone Project/Practice/Data/iris'"
      ]
     },
     "execution_count": 79,
     "metadata": {},
     "output_type": "execute_result"
    }
   ],
   "source": [
    "os.getcwd()"
   ]
  },
  {
   "cell_type": "code",
   "execution_count": 80,
   "metadata": {},
   "outputs": [],
   "source": [
    "os.chdir(\"/Users/rhyschua/Desktop/Capstone Project/Practice/Data/iris\")"
   ]
  },
  {
   "cell_type": "markdown",
   "metadata": {},
   "source": [
    "Read in data"
   ]
  },
  {
   "cell_type": "code",
   "execution_count": 101,
   "metadata": {},
   "outputs": [],
   "source": [
    "iris_data = pd.read_csv(\"Iris.csv\")"
   ]
  },
  {
   "cell_type": "code",
   "execution_count": 102,
   "metadata": {},
   "outputs": [
    {
     "data": {
      "text/html": [
       "<div>\n",
       "<style scoped>\n",
       "    .dataframe tbody tr th:only-of-type {\n",
       "        vertical-align: middle;\n",
       "    }\n",
       "\n",
       "    .dataframe tbody tr th {\n",
       "        vertical-align: top;\n",
       "    }\n",
       "\n",
       "    .dataframe thead th {\n",
       "        text-align: right;\n",
       "    }\n",
       "</style>\n",
       "<table border=\"1\" class=\"dataframe\">\n",
       "  <thead>\n",
       "    <tr style=\"text-align: right;\">\n",
       "      <th></th>\n",
       "      <th>SepalLengthCm</th>\n",
       "      <th>SepalWidthCm</th>\n",
       "      <th>PetalLengthCm</th>\n",
       "      <th>PetalWidthCm</th>\n",
       "      <th>Species</th>\n",
       "    </tr>\n",
       "  </thead>\n",
       "  <tbody>\n",
       "    <tr>\n",
       "      <th>0</th>\n",
       "      <td>5.1</td>\n",
       "      <td>3.5</td>\n",
       "      <td>1.4</td>\n",
       "      <td>0.2</td>\n",
       "      <td>Iris-setosa</td>\n",
       "    </tr>\n",
       "    <tr>\n",
       "      <th>1</th>\n",
       "      <td>4.9</td>\n",
       "      <td>3.0</td>\n",
       "      <td>1.4</td>\n",
       "      <td>0.2</td>\n",
       "      <td>Iris-setosa</td>\n",
       "    </tr>\n",
       "    <tr>\n",
       "      <th>2</th>\n",
       "      <td>4.7</td>\n",
       "      <td>3.2</td>\n",
       "      <td>1.3</td>\n",
       "      <td>0.2</td>\n",
       "      <td>Iris-setosa</td>\n",
       "    </tr>\n",
       "    <tr>\n",
       "      <th>3</th>\n",
       "      <td>4.6</td>\n",
       "      <td>3.1</td>\n",
       "      <td>1.5</td>\n",
       "      <td>0.2</td>\n",
       "      <td>Iris-setosa</td>\n",
       "    </tr>\n",
       "    <tr>\n",
       "      <th>4</th>\n",
       "      <td>5.0</td>\n",
       "      <td>3.6</td>\n",
       "      <td>1.4</td>\n",
       "      <td>0.2</td>\n",
       "      <td>Iris-setosa</td>\n",
       "    </tr>\n",
       "  </tbody>\n",
       "</table>\n",
       "</div>"
      ],
      "text/plain": [
       "   SepalLengthCm  SepalWidthCm  PetalLengthCm  PetalWidthCm      Species\n",
       "0            5.1           3.5            1.4           0.2  Iris-setosa\n",
       "1            4.9           3.0            1.4           0.2  Iris-setosa\n",
       "2            4.7           3.2            1.3           0.2  Iris-setosa\n",
       "3            4.6           3.1            1.5           0.2  Iris-setosa\n",
       "4            5.0           3.6            1.4           0.2  Iris-setosa"
      ]
     },
     "execution_count": 102,
     "metadata": {},
     "output_type": "execute_result"
    }
   ],
   "source": [
    "iris_data.head()"
   ]
  },
  {
   "cell_type": "markdown",
   "metadata": {},
   "source": [
    "Reassign value and change to numeric"
   ]
  },
  {
   "cell_type": "code",
   "execution_count": 103,
   "metadata": {},
   "outputs": [],
   "source": [
    "iris_data.loc[iris_data['Species']=='Iris-setosa', 'Species']=\"1\"\n",
    "iris_data.loc[iris_data['Species']=='Iris-versicolor', 'Species']=\"2\"\n",
    "iris_data.loc[iris_data['Species']=='Iris-virginica', 'Species']=\"3\"\n",
    "\n",
    "iris_data = iris_data.apply(pd.to_numeric)\n",
    "#iris_data['Species'] = iris_data['Species'].astype(object)"
   ]
  },
  {
   "cell_type": "code",
   "execution_count": 104,
   "metadata": {},
   "outputs": [],
   "source": [
    "iris_data['Species'] = to_categorical(iris_data['Species'])"
   ]
  },
  {
   "cell_type": "code",
   "execution_count": 105,
   "metadata": {},
   "outputs": [
    {
     "data": {
      "text/html": [
       "<div>\n",
       "<style scoped>\n",
       "    .dataframe tbody tr th:only-of-type {\n",
       "        vertical-align: middle;\n",
       "    }\n",
       "\n",
       "    .dataframe tbody tr th {\n",
       "        vertical-align: top;\n",
       "    }\n",
       "\n",
       "    .dataframe thead th {\n",
       "        text-align: right;\n",
       "    }\n",
       "</style>\n",
       "<table border=\"1\" class=\"dataframe\">\n",
       "  <thead>\n",
       "    <tr style=\"text-align: right;\">\n",
       "      <th></th>\n",
       "      <th>SepalLengthCm</th>\n",
       "      <th>SepalWidthCm</th>\n",
       "      <th>PetalLengthCm</th>\n",
       "      <th>PetalWidthCm</th>\n",
       "      <th>Species</th>\n",
       "    </tr>\n",
       "  </thead>\n",
       "  <tbody>\n",
       "    <tr>\n",
       "      <th>0</th>\n",
       "      <td>5.1</td>\n",
       "      <td>3.5</td>\n",
       "      <td>1.4</td>\n",
       "      <td>0.2</td>\n",
       "      <td>0.0</td>\n",
       "    </tr>\n",
       "    <tr>\n",
       "      <th>1</th>\n",
       "      <td>4.9</td>\n",
       "      <td>3.0</td>\n",
       "      <td>1.4</td>\n",
       "      <td>0.2</td>\n",
       "      <td>0.0</td>\n",
       "    </tr>\n",
       "    <tr>\n",
       "      <th>2</th>\n",
       "      <td>4.7</td>\n",
       "      <td>3.2</td>\n",
       "      <td>1.3</td>\n",
       "      <td>0.2</td>\n",
       "      <td>0.0</td>\n",
       "    </tr>\n",
       "    <tr>\n",
       "      <th>3</th>\n",
       "      <td>4.6</td>\n",
       "      <td>3.1</td>\n",
       "      <td>1.5</td>\n",
       "      <td>0.2</td>\n",
       "      <td>0.0</td>\n",
       "    </tr>\n",
       "    <tr>\n",
       "      <th>4</th>\n",
       "      <td>5.0</td>\n",
       "      <td>3.6</td>\n",
       "      <td>1.4</td>\n",
       "      <td>0.2</td>\n",
       "      <td>0.0</td>\n",
       "    </tr>\n",
       "  </tbody>\n",
       "</table>\n",
       "</div>"
      ],
      "text/plain": [
       "   SepalLengthCm  SepalWidthCm  PetalLengthCm  PetalWidthCm  Species\n",
       "0            5.1           3.5            1.4           0.2      0.0\n",
       "1            4.9           3.0            1.4           0.2      0.0\n",
       "2            4.7           3.2            1.3           0.2      0.0\n",
       "3            4.6           3.1            1.5           0.2      0.0\n",
       "4            5.0           3.6            1.4           0.2      0.0"
      ]
     },
     "execution_count": 105,
     "metadata": {},
     "output_type": "execute_result"
    }
   ],
   "source": [
    "iris_data.head()"
   ]
  },
  {
   "cell_type": "code",
   "execution_count": 106,
   "metadata": {},
   "outputs": [
    {
     "data": {
      "text/plain": [
       "SepalLengthCm    float64\n",
       "SepalWidthCm     float64\n",
       "PetalLengthCm    float64\n",
       "PetalWidthCm     float64\n",
       "Species          float32\n",
       "dtype: object"
      ]
     },
     "execution_count": 106,
     "metadata": {},
     "output_type": "execute_result"
    }
   ],
   "source": [
    "iris_data.dtypes"
   ]
  },
  {
   "cell_type": "markdown",
   "metadata": {},
   "source": [
    "Change to array and split data"
   ]
  },
  {
   "cell_type": "code",
   "execution_count": 107,
   "metadata": {},
   "outputs": [],
   "source": [
    "iris_data = pd.DataFrame.to_numpy(iris_data)"
   ]
  },
  {
   "cell_type": "code",
   "execution_count": 108,
   "metadata": {},
   "outputs": [],
   "source": [
    "#iris_data = iris_data.values"
   ]
  },
  {
   "cell_type": "code",
   "execution_count": 109,
   "metadata": {},
   "outputs": [],
   "source": [
    "X = iris_data[:, :4]   \n",
    "y = iris_data[:,4]\n",
    "\n",
    "X_train, X_test, y_train, y_test = train_test_split(X, y, test_size=0.3, random_state = 531) "
   ]
  },
  {
   "cell_type": "code",
   "execution_count": 110,
   "metadata": {},
   "outputs": [
    {
     "data": {
      "text/plain": [
       "(105, 4)"
      ]
     },
     "execution_count": 110,
     "metadata": {},
     "output_type": "execute_result"
    }
   ],
   "source": [
    "X_train.shape"
   ]
  },
  {
   "cell_type": "code",
   "execution_count": 111,
   "metadata": {},
   "outputs": [
    {
     "data": {
      "text/plain": [
       "(105,)"
      ]
     },
     "execution_count": 111,
     "metadata": {},
     "output_type": "execute_result"
    }
   ],
   "source": [
    "y_train.shape"
   ]
  },
  {
   "cell_type": "code",
   "execution_count": 112,
   "metadata": {},
   "outputs": [
    {
     "data": {
      "text/plain": [
       "dtype('float64')"
      ]
     },
     "execution_count": 112,
     "metadata": {},
     "output_type": "execute_result"
    }
   ],
   "source": [
    "y_train.dtype"
   ]
  },
  {
   "cell_type": "markdown",
   "metadata": {},
   "source": [
    "Create a MLP model and train data"
   ]
  },
  {
   "cell_type": "code",
   "execution_count": 113,
   "metadata": {},
   "outputs": [],
   "source": [
    "### classic feed forward code\n",
    "\n",
    "#class Net(nn.Module):\n",
    "\n",
    "#    def __init__(self):\n",
    " #       super(Net, self).__init__()\n",
    "  #      self.fc1 = nn.Linear(1, 1)\n",
    "\n",
    "    #def forward(self, x):\n",
    "      #  x = self.fc1(x)\n",
    "       # return x\n",
    "        \n",
    "#net = Net()"
   ]
  },
  {
   "cell_type": "code",
   "execution_count": 114,
   "metadata": {},
   "outputs": [],
   "source": [
    "class Net(nn.Module):\n",
    "\n",
    "    def __init__(self):\n",
    "        super(Net, self).__init__()\n",
    "        self.fc1 = nn.Linear(4, 6)\n",
    "        self.fc2 = nn.Linear(6, 6)\n",
    "        self.fc3 = nn.Linear(6, 3)\n",
    "        self.softmax = nn.Softmax(dim=1)\n",
    "\n",
    "    def forward(self, x):\n",
    "        x = F.relu(self.fc1(x))\n",
    "        x = F.relu(self.fc2(x))\n",
    "        x = self.fc3(x)\n",
    "        x = self.softmax(x)\n",
    "        \n",
    "        return x\n",
    "        \n",
    "net = Net()\n",
    "#print(net)"
   ]
  },
  {
   "cell_type": "code",
   "execution_count": 115,
   "metadata": {},
   "outputs": [
    {
     "data": {
      "text/plain": [
       "Net(\n",
       "  (fc1): Linear(in_features=4, out_features=6, bias=True)\n",
       "  (fc2): Linear(in_features=6, out_features=6, bias=True)\n",
       "  (fc3): Linear(in_features=6, out_features=3, bias=True)\n",
       "  (softmax): Softmax(dim=1)\n",
       ")"
      ]
     },
     "execution_count": 115,
     "metadata": {},
     "output_type": "execute_result"
    }
   ],
   "source": [
    "net"
   ]
  },
  {
   "cell_type": "code",
   "execution_count": 116,
   "metadata": {},
   "outputs": [],
   "source": [
    "learning_rate = 0.0001\n",
    "num_epoch = 50\n",
    "\n",
    "#choose optimizer and loss function\n",
    "criterion = nn.CrossEntropyLoss()\n",
    "#criterion = nn.LogSoftmax()\n",
    "optimizer = torch.optim.SGD(net.parameters(), lr = learning_rate)"
   ]
  },
  {
   "cell_type": "code",
   "execution_count": 117,
   "metadata": {},
   "outputs": [],
   "source": [
    "X_train = torch.Tensor(X_train).float()\n",
    "X_test = torch.Tensor(X_test).float()\n",
    "y_train= torch.Tensor(y_train).long()\n",
    "y_test= torch.Tensor(y_test).long()"
   ]
  },
  {
   "cell_type": "code",
   "execution_count": 118,
   "metadata": {},
   "outputs": [
    {
     "data": {
      "text/plain": [
       "torch.Size([105])"
      ]
     },
     "execution_count": 118,
     "metadata": {},
     "output_type": "execute_result"
    }
   ],
   "source": [
    "y_train.shape"
   ]
  },
  {
   "cell_type": "code",
   "execution_count": 120,
   "metadata": {},
   "outputs": [
    {
     "name": "stdout",
     "output_type": "stream",
     "text": [
      "tensor(0.9841, grad_fn=<NllLossBackward>)\n",
      "Epoch [1/50] Loss: 0.9841   Acc: 68.5714\n",
      "tensor(0.9840, grad_fn=<NllLossBackward>)\n",
      "Epoch [2/50] Loss: 0.9840   Acc: 68.5714\n",
      "tensor(0.9839, grad_fn=<NllLossBackward>)\n",
      "Epoch [3/50] Loss: 0.9839   Acc: 68.5714\n",
      "tensor(0.9837, grad_fn=<NllLossBackward>)\n",
      "Epoch [4/50] Loss: 0.9837   Acc: 68.5714\n",
      "tensor(0.9836, grad_fn=<NllLossBackward>)\n",
      "Epoch [5/50] Loss: 0.9836   Acc: 68.5714\n",
      "tensor(0.9835, grad_fn=<NllLossBackward>)\n",
      "Epoch [6/50] Loss: 0.9835   Acc: 68.5714\n",
      "tensor(0.9834, grad_fn=<NllLossBackward>)\n",
      "Epoch [7/50] Loss: 0.9834   Acc: 68.5714\n",
      "tensor(0.9833, grad_fn=<NllLossBackward>)\n",
      "Epoch [8/50] Loss: 0.9833   Acc: 68.5714\n",
      "tensor(0.9832, grad_fn=<NllLossBackward>)\n",
      "Epoch [9/50] Loss: 0.9832   Acc: 68.5714\n",
      "tensor(0.9831, grad_fn=<NllLossBackward>)\n",
      "Epoch [10/50] Loss: 0.9831   Acc: 68.5714\n",
      "tensor(0.9830, grad_fn=<NllLossBackward>)\n",
      "Epoch [11/50] Loss: 0.9830   Acc: 68.5714\n",
      "tensor(0.9828, grad_fn=<NllLossBackward>)\n",
      "Epoch [12/50] Loss: 0.9828   Acc: 68.5714\n",
      "tensor(0.9827, grad_fn=<NllLossBackward>)\n",
      "Epoch [13/50] Loss: 0.9827   Acc: 68.5714\n",
      "tensor(0.9826, grad_fn=<NllLossBackward>)\n",
      "Epoch [14/50] Loss: 0.9826   Acc: 68.5714\n",
      "tensor(0.9825, grad_fn=<NllLossBackward>)\n",
      "Epoch [15/50] Loss: 0.9825   Acc: 68.5714\n",
      "tensor(0.9824, grad_fn=<NllLossBackward>)\n",
      "Epoch [16/50] Loss: 0.9824   Acc: 68.5714\n",
      "tensor(0.9823, grad_fn=<NllLossBackward>)\n",
      "Epoch [17/50] Loss: 0.9823   Acc: 68.5714\n",
      "tensor(0.9822, grad_fn=<NllLossBackward>)\n",
      "Epoch [18/50] Loss: 0.9822   Acc: 68.5714\n",
      "tensor(0.9820, grad_fn=<NllLossBackward>)\n",
      "Epoch [19/50] Loss: 0.9820   Acc: 68.5714\n",
      "tensor(0.9819, grad_fn=<NllLossBackward>)\n",
      "Epoch [20/50] Loss: 0.9819   Acc: 68.5714\n",
      "tensor(0.9818, grad_fn=<NllLossBackward>)\n",
      "Epoch [21/50] Loss: 0.9818   Acc: 68.5714\n",
      "tensor(0.9817, grad_fn=<NllLossBackward>)\n",
      "Epoch [22/50] Loss: 0.9817   Acc: 68.5714\n",
      "tensor(0.9816, grad_fn=<NllLossBackward>)\n",
      "Epoch [23/50] Loss: 0.9816   Acc: 68.5714\n",
      "tensor(0.9815, grad_fn=<NllLossBackward>)\n",
      "Epoch [24/50] Loss: 0.9815   Acc: 68.5714\n",
      "tensor(0.9814, grad_fn=<NllLossBackward>)\n",
      "Epoch [25/50] Loss: 0.9814   Acc: 68.5714\n",
      "tensor(0.9813, grad_fn=<NllLossBackward>)\n",
      "Epoch [26/50] Loss: 0.9813   Acc: 68.5714\n",
      "tensor(0.9811, grad_fn=<NllLossBackward>)\n",
      "Epoch [27/50] Loss: 0.9811   Acc: 68.5714\n",
      "tensor(0.9810, grad_fn=<NllLossBackward>)\n",
      "Epoch [28/50] Loss: 0.9810   Acc: 68.5714\n",
      "tensor(0.9809, grad_fn=<NllLossBackward>)\n",
      "Epoch [29/50] Loss: 0.9809   Acc: 68.5714\n",
      "tensor(0.9808, grad_fn=<NllLossBackward>)\n",
      "Epoch [30/50] Loss: 0.9808   Acc: 68.5714\n",
      "tensor(0.9807, grad_fn=<NllLossBackward>)\n",
      "Epoch [31/50] Loss: 0.9807   Acc: 68.5714\n",
      "tensor(0.9806, grad_fn=<NllLossBackward>)\n",
      "Epoch [32/50] Loss: 0.9806   Acc: 68.5714\n",
      "tensor(0.9805, grad_fn=<NllLossBackward>)\n",
      "Epoch [33/50] Loss: 0.9805   Acc: 68.5714\n",
      "tensor(0.9803, grad_fn=<NllLossBackward>)\n",
      "Epoch [34/50] Loss: 0.9803   Acc: 68.5714\n",
      "tensor(0.9802, grad_fn=<NllLossBackward>)\n",
      "Epoch [35/50] Loss: 0.9802   Acc: 68.5714\n",
      "tensor(0.9801, grad_fn=<NllLossBackward>)\n",
      "Epoch [36/50] Loss: 0.9801   Acc: 68.5714\n",
      "tensor(0.9800, grad_fn=<NllLossBackward>)\n",
      "Epoch [37/50] Loss: 0.9800   Acc: 68.5714\n",
      "tensor(0.9799, grad_fn=<NllLossBackward>)\n",
      "Epoch [38/50] Loss: 0.9799   Acc: 68.5714\n",
      "tensor(0.9798, grad_fn=<NllLossBackward>)\n",
      "Epoch [39/50] Loss: 0.9798   Acc: 68.5714\n",
      "tensor(0.9797, grad_fn=<NllLossBackward>)\n",
      "Epoch [40/50] Loss: 0.9797   Acc: 68.5714\n",
      "tensor(0.9796, grad_fn=<NllLossBackward>)\n",
      "Epoch [41/50] Loss: 0.9796   Acc: 68.5714\n",
      "tensor(0.9794, grad_fn=<NllLossBackward>)\n",
      "Epoch [42/50] Loss: 0.9794   Acc: 68.5714\n",
      "tensor(0.9793, grad_fn=<NllLossBackward>)\n",
      "Epoch [43/50] Loss: 0.9793   Acc: 68.5714\n",
      "tensor(0.9792, grad_fn=<NllLossBackward>)\n",
      "Epoch [44/50] Loss: 0.9792   Acc: 68.5714\n",
      "tensor(0.9791, grad_fn=<NllLossBackward>)\n",
      "Epoch [45/50] Loss: 0.9791   Acc: 68.5714\n",
      "tensor(0.9790, grad_fn=<NllLossBackward>)\n",
      "Epoch [46/50] Loss: 0.9790   Acc: 68.5714\n",
      "tensor(0.9789, grad_fn=<NllLossBackward>)\n",
      "Epoch [47/50] Loss: 0.9789   Acc: 68.5714\n",
      "tensor(0.9788, grad_fn=<NllLossBackward>)\n",
      "Epoch [48/50] Loss: 0.9788   Acc: 68.5714\n",
      "tensor(0.9786, grad_fn=<NllLossBackward>)\n",
      "Epoch [49/50] Loss: 0.9786   Acc: 68.5714\n",
      "tensor(0.9785, grad_fn=<NllLossBackward>)\n",
      "Epoch [50/50] Loss: 0.9785   Acc: 68.5714\n"
     ]
    }
   ],
   "source": [
    "#train\n",
    "for epoch in range(num_epoch):\n",
    "    \n",
    "    #feedforward - backprop\n",
    "    optimizer.zero_grad()\n",
    "    out = net(X_train)\n",
    "   # print(out)\n",
    "    \n",
    "    loss = criterion(out, y_train)\n",
    "    print(loss)\n",
    "    loss.backward()\n",
    "    optimizer.step()\n",
    "    \n",
    "    acc = 100 * torch.sum(y_train==torch.max(out.data, 1)[1]).double() / len(y_train)\n",
    "    print ('Epoch [%d/%d] Loss: %.4f   Acc: %.4f' \n",
    "                 %(epoch+1, num_epoch, loss.item(), acc.item()))"
   ]
  },
  {
   "cell_type": "code",
   "execution_count": 121,
   "metadata": {},
   "outputs": [
    {
     "name": "stdout",
     "output_type": "stream",
     "text": [
      "prediction accuracy 0.6222222222222222\n",
      "macro precision 0.5\n",
      "micro precision 0.6222222222222222\n",
      "macro recall 0.3111111111111111\n",
      "micro recall 0.6222222222222222\n"
     ]
    },
    {
     "name": "stderr",
     "output_type": "stream",
     "text": [
      "/Users/rhyschua/anaconda3/lib/python3.7/site-packages/sklearn/metrics/_classification.py:1272: UndefinedMetricWarning: Recall is ill-defined and being set to 0.0 in labels with no true samples. Use `zero_division` parameter to control this behavior.\n",
      "  _warn_prf(average, modifier, msg_start, len(result))\n"
     ]
    }
   ],
   "source": [
    "predict_out = net(X_test)\n",
    "_, predict_y = torch.max(predict_out, 1)\n",
    "\n",
    "print ('prediction accuracy', accuracy_score(y_test.data, predict_y.data))\n",
    "\n",
    "print ('macro precision', precision_score(y_test.data, predict_y.data, average='macro'))\n",
    "print ('micro precision', precision_score(y_test.data, predict_y.data, average='micro'))\n",
    "print ('macro recall', recall_score(y_test.data, predict_y.data, average='macro'))\n",
    "print ('micro recall', recall_score(y_test.data, predict_y.data, average='micro'))"
   ]
  },
  {
   "cell_type": "code",
   "execution_count": null,
   "metadata": {},
   "outputs": [],
   "source": []
  }
 ],
 "metadata": {
  "kernelspec": {
   "display_name": "Python 3",
   "language": "python",
   "name": "python3"
  },
  "language_info": {
   "codemirror_mode": {
    "name": "ipython",
    "version": 3
   },
   "file_extension": ".py",
   "mimetype": "text/x-python",
   "name": "python",
   "nbconvert_exporter": "python",
   "pygments_lexer": "ipython3",
   "version": "3.7.3"
  }
 },
 "nbformat": 4,
 "nbformat_minor": 4
}
