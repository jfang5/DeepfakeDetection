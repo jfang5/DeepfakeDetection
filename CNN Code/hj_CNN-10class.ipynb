{
 "cells": [
  {
   "cell_type": "markdown",
   "metadata": {},
   "source": [
    "# CNN - NN - Image Classification\n",
    "## 10 Classification\n",
    "05/04/2020"
   ]
  },
  {
   "cell_type": "code",
   "execution_count": null,
   "metadata": {},
   "outputs": [],
   "source": [
    "#creating labels for data and how to import\n",
    "https://www.kaggle.com/uvxy1234/cifar-10-implementation-with-pytorch\n",
    "    "
   ]
  },
  {
   "cell_type": "code",
   "execution_count": null,
   "metadata": {},
   "outputs": [],
   "source": [
    "https://blog.paperspace.com/pytorch-101-building-neural-networks/"
   ]
  },
  {
   "cell_type": "raw",
   "metadata": {},
   "source": [
    "https://github.com/pytorch/tutorials/blob/master/beginner_source/blitz/cifar10_tutorial.py\n",
    "https://pytorch.org/tutorials/beginner/blitz/cifar10_tutorial.html\n",
    "https://www.youtube.com/watch?v=ixathu7U-LQ&list=PLQVvvaa0QuDdeMyHEYc0gxFpYwHY2Qfdh&index=3\n",
    "https://www.youtube.com/watch?v=bNb2fEVKeEo\n",
    "\n",
    "https://towardsdatascience.com/how-to-train-an-image-classifier-in-pytorch-and-use-it-to-perform-basic-inference-on-single-images-99465a1e9bf5\n",
    "\n"
   ]
  },
  {
   "cell_type": "markdown",
   "metadata": {},
   "source": [
    "![title](https://cdn-images-1.medium.com/max/800/1*uZrS4KjAuSJQIJPgOiaJUg.png)\n"
   ]
  },
  {
   "cell_type": "code",
   "execution_count": 1,
   "metadata": {},
   "outputs": [],
   "source": [
    "import numpy as np\n",
    "import pandas as pd\n",
    "import matplotlib.pyplot as plt\n",
    "import torch\n",
    "import torch.nn as nn\n",
    "import pickle\n",
    "\n",
    "\n",
    "import torchvision.transforms as transforms #transforms the dataset into variouys\n",
    "import torchvision\n",
    "import torchvision.datasets as datasets\n",
    "from torch.autograd import Variable\n",
    "\n",
    "from PIL import Image\n",
    "import torch.optim as optim\n",
    "import os\n",
    "\n",
    "from torch.utils.data import Dataset\n"
   ]
  },
  {
   "cell_type": "markdown",
   "metadata": {},
   "source": [
    "https://www.kaggle.com/uvxy1234/cifar-10-implementation-with-pytorch"
   ]
  },
  {
   "cell_type": "code",
   "execution_count": 2,
   "metadata": {},
   "outputs": [],
   "source": [
    "# conda install nomkl"
   ]
  },
  {
   "cell_type": "code",
   "execution_count": 40,
   "metadata": {},
   "outputs": [],
   "source": [
    "os.chdir('/Users/heoun/Downloads/cifar-10/')\n",
    "os.environ['KMP_DUPLICATE_LIB_OK']='True'"
   ]
  },
  {
   "cell_type": "code",
   "execution_count": 41,
   "metadata": {},
   "outputs": [
    {
     "data": {
      "text/plain": [
       "<torch._C.Generator at 0x152531830>"
      ]
     },
     "execution_count": 41,
     "metadata": {},
     "output_type": "execute_result"
    }
   ],
   "source": [
    "np.random.seed(0)\n",
    "torch.manual_seed(0)"
   ]
  },
  {
   "cell_type": "code",
   "execution_count": null,
   "metadata": {},
   "outputs": [],
   "source": [
    "https://discuss.pytorch.org/t/custom-label-for-torchvision-imagefolder-class/52300/8"
   ]
  },
  {
   "cell_type": "code",
   "execution_count": 45,
   "metadata": {},
   "outputs": [],
   "source": [
    "#https://stackoverflow.com/questions/51906144/pytorch-image-label"
   ]
  },
  {
   "cell_type": "markdown",
   "metadata": {},
   "source": [
    "#### Normalize the dataset and Transformations for the Images for Train and Test"
   ]
  },
  {
   "cell_type": "code",
   "execution_count": 35,
   "metadata": {},
   "outputs": [],
   "source": [
    "transform_train = transforms.Compose([\n",
    "    transforms.RandomCrop(32, padding=4), #32x32 is the size of the random cropping?\n",
    "    transforms.RandomHorizontalFlip(), #randomly flips the image so it would be able to provide more training\n",
    "    #transforms.RandomResizedCrop(32) #will exttract a patch size of (32,32) from the image randomly, \n",
    "    transforms.ToTensor(), #converts the input image into a PYTorch Tensor\n",
    "    transforms.Normalize((0.4914, 0.4822, 0.4465), (0.2023, 0.1994, 0.2010)), #input data scaling and values precomputed for the dataset\n",
    "])\n",
    "#Normalize does the following for each channel:\n",
    "    #image = (image - mean) / std\n",
    "# Normalize the test set same as training set without augmentation\n",
    "#first tuple is teh mean and the second is referring to the std - it normalizes to the 1/1 range\n",
    "#Normalization helps get data within a range and reduces the skewness which helps learn faster and better\n",
    "\n",
    "\n",
    "#forums say transforms.Normalize(mean=[0.485, 0.456, 0.406], std=[0.229, 0.224, 0.225])  greyscale - transforms.Normalize([0.5], [0.5])\n",
    "\n",
    "transform_test = transforms.Compose([\n",
    "    transforms.ToTensor(),\n",
    "    transforms.Normalize((0.4914, 0.4822, 0.4465), (0.2023, 0.1994, 0.2010)),\n",
    "])\n",
    "\n",
    "#Validation Transfomrations\n",
    "# transforms.Resize(256) #input image is ressized by (256,256)\n",
    "# transforms.CentreCrop(224) #crops the center part of the image of th eshape (224,224)"
   ]
  },
  {
   "cell_type": "markdown",
   "metadata": {},
   "source": [
    "### Load the Datasets"
   ]
  },
  {
   "cell_type": "code",
   "execution_count": 50,
   "metadata": {},
   "outputs": [],
   "source": [
    "#Load our dataset FROM A FOLDER - images are loaded in respective folders - https://pytorch.org/docs/stable/torchvision/datasets.html\n",
    "train_dataset = datasets.ImageFolder(root = '1/', transform = transform_train) #A function/transform that takes in an PIL image and returns a transformed versiona\n",
    "\n",
    "test_dataset = datasets.ImageFolder(root = '2/', transform = transform_test) \n",
    "\n",
    "#https://pytorch.org/tutorials/beginner/data_loading_tutorial.html?highlight=torchvision%20datasets%20imagefolder\n",
    "#It seems like the program tends to recursively read in files, that is convenient in some cases."
   ]
  },
  {
   "cell_type": "code",
   "execution_count": 69,
   "metadata": {},
   "outputs": [
    {
     "data": {
      "text/html": [
       "<div>\n",
       "<style scoped>\n",
       "    .dataframe tbody tr th:only-of-type {\n",
       "        vertical-align: middle;\n",
       "    }\n",
       "\n",
       "    .dataframe tbody tr th {\n",
       "        vertical-align: top;\n",
       "    }\n",
       "\n",
       "    .dataframe thead th {\n",
       "        text-align: right;\n",
       "    }\n",
       "</style>\n",
       "<table border=\"1\" class=\"dataframe\">\n",
       "  <thead>\n",
       "    <tr style=\"text-align: right;\">\n",
       "      <th></th>\n",
       "      <th>id</th>\n",
       "      <th>label</th>\n",
       "    </tr>\n",
       "  </thead>\n",
       "  <tbody>\n",
       "    <tr>\n",
       "      <td>1</td>\n",
       "      <td>2</td>\n",
       "      <td>truck</td>\n",
       "    </tr>\n",
       "    <tr>\n",
       "      <td>2</td>\n",
       "      <td>3</td>\n",
       "      <td>truck</td>\n",
       "    </tr>\n",
       "    <tr>\n",
       "      <td>3</td>\n",
       "      <td>4</td>\n",
       "      <td>deer</td>\n",
       "    </tr>\n",
       "    <tr>\n",
       "      <td>4</td>\n",
       "      <td>5</td>\n",
       "      <td>automobile</td>\n",
       "    </tr>\n",
       "    <tr>\n",
       "      <td>5</td>\n",
       "      <td>6</td>\n",
       "      <td>automobile</td>\n",
       "    </tr>\n",
       "  </tbody>\n",
       "</table>\n",
       "</div>"
      ],
      "text/plain": [
       "   id       label\n",
       "1   2       truck\n",
       "2   3       truck\n",
       "3   4        deer\n",
       "4   5  automobile\n",
       "5   6  automobile"
      ]
     },
     "execution_count": 69,
     "metadata": {},
     "output_type": "execute_result"
    }
   ],
   "source": [
    "df_labels = pd.read_csv('trainLabels.csv')\n",
    "\n",
    "\n",
    "df_labels[1:6]\n"
   ]
  },
  {
   "cell_type": "code",
   "execution_count": 71,
   "metadata": {},
   "outputs": [],
   "source": [
    "###pd.Series(y_train).groupby(y_train).count() #checking the labels and making sure they are balanced"
   ]
  },
  {
   "cell_type": "code",
   "execution_count": 72,
   "metadata": {},
   "outputs": [],
   "source": [
    "train_dataset.class_to_idx = pd.Series(df_labels['label'].values,index=df_labels['id']).to_dict()"
   ]
  },
  {
   "cell_type": "code",
   "execution_count": 73,
   "metadata": {},
   "outputs": [],
   "source": [
    "train_dataset.classes = ('airplane', 'car', 'bird', 'cat',\n",
    "           'deer', 'dog', 'frog', 'horse', 'ship', 'truck')"
   ]
  },
  {
   "cell_type": "code",
   "execution_count": 74,
   "metadata": {},
   "outputs": [],
   "source": [
    "batch_size =4\n",
    "train_load = torch.utils.data.DataLoader(train_dataset, batch_size = batch_size, shuffle = True, num_workers = 6) #size is huge so ram can only handle so much. need a batch size to split it up to get to the full epoch - base 8 - bigger batch size = faster training\n",
    "test_load = torch.utils.data.DataLoader(test_dataset, batch_size = batch_size, shuffle = True, num_workers = 6)\n",
    "\n",
    "#shuffle lets you figure out generalized principles not just 1 ,2 ,3 ,4 ,5 ,6\n",
    "\n",
    "#returns a list of x and y tensors.\n",
    "#https://towardsdatascience.com/epoch-vs-iterations-vs-batch-size-4dfb9c7ce9c9"
   ]
  },
  {
   "cell_type": "code",
   "execution_count": null,
   "metadata": {},
   "outputs": [],
   "source": []
  },
  {
   "cell_type": "markdown",
   "metadata": {},
   "source": [
    "\n",
    "With the steps being larger, the batch size is smaller, indicating that there needs to be more passes as it will not reach the local minima fast enough. The loss is less messy than the previous iteration because the epoch was increased to accomodate the steps. The loss is starting to look a bit messy, but the loss is smaller than the previous model. We would not be able to determine whether the data is overfitting or underfitting because of there not being a validation set.\n",
    "\n",
    "\n",
    "Increasing the steps_per_epoch and increasing the number of epochs did not have an impact on the accuracy in this assignment. Instead the loss did fluctuate significantly. In a typical scenario, an increase in steps per epoch would increase the accuracy, but is prone to overfitting. The train error would be low but the test/validation would be high (aka low bias high variance/generalization). Since there is no validation test, we cannot be certain of over or underfitting. However the 50steps 100 epoch is absolutely overfitting as it goes through the epoch repeatedly through the train to train the model.\n",
    "\n",
    "To note, batch size determines the # of samples in a mini-batch. If we have one epoch, batch size is how big is each split. The bigger the size, the smaller the steps that are taken to eventually reach epoch. An epoch means one iteration on the entire train data. \n",
    "\n",
    "\n",
    "\n",
    "Increasing the steps_per_epochs would increase the accuracy, but at the same time it prones to overfitting. This means that the train error would be very low, yet your test/validation error would be very high.\n",
    "Increasing the number of epochs: similar to increase the steps_per epoch.\n",
    "Based on the models that I had run in this assigment, the results from the train_error also confirms the mentioned effects above when we increase steps_per_epochs or number of epochs. Below is an example with the loss when we increase steps_per_epoch and increase the epoch\n",
    "\n",
    "batch_size determines the number of samples in each mini batch. Its maximum is the number of all samples, which makes gradient descent accurate, the loss will decrease towards the minimum if the learning rate is small enough, but iterations are slower. Its minimum is 1, resulting in stochastic gradient descent: Fast but the direction of the gradient step is based only on one example, the loss may jump around. batch_size allows to adjust between the two extremes: accurate gradient direction and fast iteration. Also, the maximum value for batch_size may be limited if your model + data set does not fit into the available (GPU) memory.\n",
    "\n",
    "steps_per_epoch the number of batch iterations before a training epoch is considered finished. If you have a training set of fixed size you can ignore it but it may be useful if you have a huge data set or if you are generating random data augmentations on the fly, i.e. if your training set has a (generated) infinite size. If you have the time to go through your whole training data set I recommend to skip this parameter.\n",
    "validation_steps similar to steps_per_epoch but on the validation data set instead on the training data. If you have the time to go through your whole validation data set I recommend to skip this parameter.\n",
    "\n",
    "\n",
    "An epoch usually means one iteration over all of the training data. For instance if you have 20,000 images and a batch size of 100 then the epoch should contain 20,000 / 100 = 200 steps. However I usually just set a fixed number of steps like 1000 per epoch even though I have a much larger data set. At the end of the epoch I check the average cost and if it improved I save a checkpoint. There is no difference between steps from one epoch to another. I just treat them as checkpoints."
   ]
  },
  {
   "cell_type": "code",
   "execution_count": 75,
   "metadata": {},
   "outputs": [],
   "source": [
    "#Show a batch of images\n",
    "def imgshow(img):\n",
    "    img = img / 2 + 0.5     # unnormalize\n",
    "    npimg = img.numpy()\n",
    "    plt.figure(figsize=(20,20))\n",
    "    plt.imshow(np.transpose(npimg, (1, 2, 0)))"
   ]
  },
  {
   "cell_type": "code",
   "execution_count": 76,
   "metadata": {},
   "outputs": [],
   "source": [
    "# get some random training images\n",
    "dataiter = iter(train_load) #iterates over the train_load\n",
    "images, labels = dataiter.next() #shows the image and label"
   ]
  },
  {
   "cell_type": "code",
   "execution_count": 77,
   "metadata": {},
   "outputs": [
    {
     "name": "stderr",
     "output_type": "stream",
     "text": [
      "Clipping input data to the valid range for imshow with RGB data ([0..1] for floats or [0..255] for integers).\n"
     ]
    },
    {
     "data": {
      "image/png": "[encoded data removed]",
      "text/plain": [
       "<Figure size 1440x1440 with 1 Axes>"
      ]
     },
     "metadata": {
      "needs_background": "light"
     },
     "output_type": "display_data"
    }
   ],
   "source": [
    "imgshow(torchvision.utils.make_grid(images)) # creates a grid of the fig size 20/20"
   ]
  },
  {
   "cell_type": "code",
   "execution_count": 78,
   "metadata": {},
   "outputs": [
    {
     "name": "stdout",
     "output_type": "stream",
     "text": [
      "Train Data set consists of 50000 images\n",
      "Train Batch set consists of 12500 images\n",
      "Test Data set consists of 300000 images\n",
      "Test Batch set consists of 75000 images\n"
     ]
    }
   ],
   "source": [
    "print(\"Train Data set consists of {} images\".format(len(train_dataset)))\n",
    "print(\"Train Batch set consists of {} images\".format(len(train_load)))\n",
    "print(\"Test Data set consists of {} images\".format(len(test_dataset)))\n",
    "print(\"Test Batch set consists of {} images\".format(len(test_load)))"
   ]
  },
  {
   "cell_type": "code",
   "execution_count": null,
   "metadata": {},
   "outputs": [],
   "source": []
  },
  {
   "cell_type": "code",
   "execution_count": 79,
   "metadata": {},
   "outputs": [],
   "source": [
    "class PrintLayer(nn.Module):\n",
    "    def __init__(self):\n",
    "        super(PrintLayer, self).__init__()\n",
    "    \n",
    "    def forward(self, x):\n",
    "        # Do your print / debug stuff here\n",
    "        print(x.shape)\n",
    "        return x\n",
    "    \n",
    "    \n",
    "    \n",
    "class net(nn.Module): #inheriting the Module from torch.nn.Module\n",
    "    ''' \n",
    "    This has the basic components of the NN\n",
    "    '''\n",
    "    def __init__(self):\n",
    "        super(net, self).__init__()\n",
    "\n",
    "        self.conv_layer = nn.Sequential(\n",
    "        #1st convolutional layer\n",
    "            #PrintLayer(), #torch.Size([100, 3, 32, 32])\n",
    "            nn.Conv2d(stride = 1, in_channels = 3, out_channels = 12, kernel_size = 3, padding = 1),  #so we have an input of 3 because rgb causes it to be 3->12\n",
    "                #stride - amount of movement over the image\n",
    "                #3 inputs and creates 12 outputs\n",
    "                #padding is at the outer edges\n",
    "                #kernel size of the kernel 3x3 \n",
    "            #PrintLayer(), #torch.Size([100, 12, 32, 32])\n",
    "            nn.BatchNorm2d(12), #12-> 12\n",
    "                #improves speed, performance, stability\n",
    "                #normalizes the input layer by recentering and rescaling\n",
    "                #standardizes the activations of a node in the previous layer\n",
    "                #also called whitening the images\n",
    "                #stabilizes the mean and varaince of each unit + relationship between units and nonlinears\n",
    "                #very effective in sigmoidal nonlinearities\n",
    "                #https://machinelearningmastery.com/batch-normalization-for-training-of-deep-neural-networks/\n",
    "            nn.ReLU(inplace = True), #adds the relu function - relu(output) 12-> 12 relu\n",
    "            #PrintLayer(), #torch.Size([100, 12, 32, 32])\n",
    "            nn.MaxPool2d(kernel_size=2, stride=2, padding=0), #maxpooling reduces the size of the kernel size 32/2 = 16 \n",
    "            #conceptually you are creating a kernel size to pool over aand determine the amount to replace. \n",
    "            #a kernel of 1x1 and stride of 1 won't do anything. kernel 2x2 and stride 2 will shrink the data by 2\n",
    "            #https://computersciencewiki.org/index.php/Max-pooling_/_Pooling\n",
    "            #There is no learning done in max pooling layers, no weights or parameters to update just down sampling. \n",
    "            #However in convolutional layers there are weights that are learned so  down samples the data (if no padding is used) but it also extractes learned features.\n",
    "            #PrintLayer(), #torch.Size([100, 12, 16, 16])\n",
    "            #2nd covolutional layer\n",
    "            nn.Conv2d(stride = 1, in_channels = 12, out_channels = 32, kernel_size = 3, padding = 1),  #padding = 1 does nothing, 2 increases the feature size by 2\n",
    "            #PrintLayer(), \n",
    "            nn.BatchNorm2d(32), #32 -> 32\n",
    "            #PrintLayer(),\n",
    "            nn.ReLU(inplace = True), #adds the relu function - relu(output)\n",
    "            #PrintLayer(),\n",
    "            nn.MaxPool2d(kernel_size=2, stride=2, padding=0) #maxpooling reduces the size of the kernel size 16/2 = turns it into 8\n",
    "        )\n",
    "\n",
    "        self.fc_layer = nn.Sequential(\n",
    "                    \n",
    "            #Flatten the feature maps. You have 32 feature maps with each feature being the size of 8x8 aka 32*8*8 \n",
    "            #We know the original picture size was \n",
    "            nn.Linear(in_features=2048, out_features=1024),   #Flattened image of a 1x2048 is fed into linear NN \n",
    "            nn.ReLU(inplace = True),\n",
    "            nn.Dropout(p=0.2),                    #Dropout used to reduce overfitting\n",
    "            nn.Linear(in_features=1024, out_features=512),\n",
    "            nn.ReLU(inplace = True),\n",
    "            nn.Dropout(p=0.2),\n",
    "            nn.Linear(in_features=512, out_features=500),\n",
    "            nn.ReLU(inplace = True),\n",
    "            nn.Dropout(p=0.2),\n",
    "            nn.Linear(in_features=500, out_features=50),\n",
    "            nn.ReLU(inplace = True),\n",
    "            nn.Dropout(p=0.2),\n",
    "            nn.Linear(in_features=50, out_features=10) \n",
    "            \n",
    "            #Since there were so many features, I decided to use 45 layers to get output layers. \n",
    "            #You can increase the kernels in Maxpooling to reduce image further and reduce number of hidden linear layers.\n",
    "        )\n",
    "       \n",
    "        \n",
    "    def forward(self, x):\n",
    "        \"\"\"Performs the forward Pass\"\"\"\n",
    "        \n",
    "        #Convolutional Layers - Hidden Layers\n",
    "        x = self.conv_layer(x)\n",
    "        \n",
    "        ##print(x.shape) check shape before\n",
    "        #Flatten the layers to prepare to process it through the MLP\n",
    "        x = x.view(x.size(0), -1) #100 batch sizes for however many features there are originally to start\n",
    "        #print(x.size(0)) check shape again to confirm\n",
    "        ##print(x.shape)\n",
    "        \n",
    "        #MLP Layer \n",
    "        x = self.fc_layer(x)\n",
    "        \n",
    "        return x\n",
    "    "
   ]
  },
  {
   "cell_type": "code",
   "execution_count": 80,
   "metadata": {},
   "outputs": [
    {
     "name": "stdout",
     "output_type": "stream",
     "text": [
      "net(\n",
      "  (conv_layer): Sequential(\n",
      "    (0): Conv2d(3, 12, kernel_size=(3, 3), stride=(1, 1), padding=(1, 1))\n",
      "    (1): BatchNorm2d(12, eps=1e-05, momentum=0.1, affine=True, track_running_stats=True)\n",
      "    (2): ReLU(inplace=True)\n",
      "    (3): MaxPool2d(kernel_size=2, stride=2, padding=0, dilation=1, ceil_mode=False)\n",
      "    (4): Conv2d(12, 32, kernel_size=(3, 3), stride=(1, 1), padding=(1, 1))\n",
      "    (5): BatchNorm2d(32, eps=1e-05, momentum=0.1, affine=True, track_running_stats=True)\n",
      "    (6): ReLU(inplace=True)\n",
      "    (7): MaxPool2d(kernel_size=2, stride=2, padding=0, dilation=1, ceil_mode=False)\n",
      "  )\n",
      "  (fc_layer): Sequential(\n",
      "    (0): Linear(in_features=2048, out_features=1024, bias=True)\n",
      "    (1): ReLU(inplace=True)\n",
      "    (2): Dropout(p=0.2, inplace=False)\n",
      "    (3): Linear(in_features=1024, out_features=512, bias=True)\n",
      "    (4): ReLU(inplace=True)\n",
      "    (5): Dropout(p=0.2, inplace=False)\n",
      "    (6): Linear(in_features=512, out_features=500, bias=True)\n",
      "    (7): ReLU(inplace=True)\n",
      "    (8): Dropout(p=0.2, inplace=False)\n",
      "    (9): Linear(in_features=500, out_features=50, bias=True)\n",
      "    (10): ReLU(inplace=True)\n",
      "    (11): Dropout(p=0.2, inplace=False)\n",
      "    (12): Linear(in_features=50, out_features=10, bias=True)\n",
      "  )\n",
      ")\n"
     ]
    }
   ],
   "source": [
    "model = net()\n",
    "# CUDA = torch.cuda.is_available() #moves to gpu\n",
    "# if CUDA:\n",
    "#     model = model.cuda()  \n",
    "\n",
    "criterion = nn.CrossEntropyLoss()\n",
    "optimizer = optim.SGD(model.parameters(), lr=0.001, momentum=0.9) #parameters essentially come from the NN that was originally built\n",
    "\n",
    "#Cross Entropy Loss - Defined by log loss with expectation of a 1D tensor\n",
    "\n",
    "\n",
    "#SGD optimizer\n",
    "#this is the sgd optimizer that then gets to the loss function learning rate of 0.001, momentum is  #learning rate\n",
    "\n",
    "print(model)"
   ]
  },
  {
   "cell_type": "code",
   "execution_count": 81,
   "metadata": {},
   "outputs": [
    {
     "name": "stdout",
     "output_type": "stream",
     "text": [
      "[1,  2000] loss: 0.041842260\n",
      "[1,  4000] loss: 0.000090319\n",
      "[1,  6000] loss: 0.000050210\n",
      "[1,  8000] loss: 0.000020069\n",
      "[1, 10000] loss: 0.000028088\n",
      "[1, 12000] loss: 0.000034071\n",
      "[2,  2000] loss: 0.000014899\n",
      "[2,  4000] loss: 0.000016095\n",
      "[2,  6000] loss: 0.000012820\n",
      "[2,  8000] loss: 0.000012087\n",
      "[2, 10000] loss: 0.000008667\n",
      "[2, 12000] loss: 0.000010557\n",
      "Finished Training\n"
     ]
    }
   ],
   "source": [
    "for epoch in range(2):  # loop over the dataset multiple times\n",
    "\n",
    "    running_loss = 0.0\n",
    "    for i, data in enumerate(train_load, 0):\n",
    "        # get the inputs; data is a list of [inputs, labels]\n",
    "        inputs, labels = data\n",
    "\n",
    "        # zero the parameter gradients\n",
    "        optimizer.zero_grad()\n",
    "\n",
    "        # forward + backward + optimize\n",
    "        outputs = model(inputs)\n",
    "        loss = criterion(outputs, labels) #takes the crossentrpoyloss and plugs it into output and labels\n",
    "        #has backward prop + loss function\n",
    "        loss.backward()\n",
    "        optimizer.step() #use SGD\n",
    "\n",
    "        # print statistics\n",
    "        running_loss += loss.item()\n",
    "        if i % 2000 == 1999:    # print every 2000 mini-batches\n",
    "            print('[%d, %5d] loss: %.9f' %\n",
    "                  (epoch + 1, i + 1, running_loss / 2000))\n",
    "            running_loss = 0.0\n",
    "\n",
    "print('Finished Training')\n",
    "\n",
    "\n",
    "#RuntimeError: size mismatch, m1: [100 x 1568], m2: [2048 x 1024] at ../aten/src/TH/generic/THTensorMath.cpp:41\n",
    "\n",
    "#m1 is [a x b] which is [batch size x in features]\n",
    "#m2 is [c x d] which is [in features x out features]"
   ]
  },
  {
   "cell_type": "code",
   "execution_count": 82,
   "metadata": {},
   "outputs": [],
   "source": [
    "\n",
    "PATH = '/Users/heoun/Downloads/cifar-10/3/cifar_net.pth'\n",
    "torch.save(model.state_dict(), PATH)"
   ]
  },
  {
   "cell_type": "code",
   "execution_count": 83,
   "metadata": {},
   "outputs": [
    {
     "name": "stderr",
     "output_type": "stream",
     "text": [
      "Clipping input data to the valid range for imshow with RGB data ([0..1] for floats or [0..255] for integers).\n"
     ]
    },
    {
     "name": "stdout",
     "output_type": "stream",
     "text": [
      "GroundTruth:  airplane airplane airplane airplane\n"
     ]
    },
    {
     "data": {
      "image/png": "[encoded data removed]",
      "text/plain": [
       "<Figure size 1440x1440 with 1 Axes>"
      ]
     },
     "metadata": {
      "needs_background": "light"
     },
     "output_type": "display_data"
    }
   ],
   "source": [
    "#test the network\n",
    "dataiter = iter(train_load)\n",
    "images, labels = dataiter.next()\n",
    "\n",
    "# print images\n",
    "imgshow(torchvision.utils.make_grid(images))\n",
    "print('GroundTruth: ', ' '.join('%5s' % classes[labels[j]] for j in range(4)))\n"
   ]
  },
  {
   "cell_type": "code",
   "execution_count": 84,
   "metadata": {},
   "outputs": [],
   "source": [
    "########################################################################\n",
    "# Next, let's load back in our saved model (note: saving and re-loading the model\n",
    "# wasn't necessary here, we only did it to illustrate how to do so):\n",
    "\n",
    "net = net()\n",
    "net.load_state_dict(torch.load(PATH))\n",
    "\n",
    "########################################################################\n",
    "# Okay, now let us see what the neural network thinks these examples above are:\n",
    "\n",
    "outputs = net(images)"
   ]
  },
  {
   "cell_type": "code",
   "execution_count": 85,
   "metadata": {},
   "outputs": [
    {
     "name": "stdout",
     "output_type": "stream",
     "text": [
      "Predicted:  airplane airplane airplane airplane\n"
     ]
    }
   ],
   "source": [
    "_, predicted = torch.max(outputs, 1)\n",
    "\n",
    "print('Predicted: ', ' '.join('%5s' % classes[predicted[j]]\n",
    "                              for j in range(4)))\n"
   ]
  },
  {
   "cell_type": "code",
   "execution_count": 86,
   "metadata": {},
   "outputs": [
    {
     "name": "stdout",
     "output_type": "stream",
     "text": [
      "Accuracy of the network on the 10000 test images: 100 %\n"
     ]
    }
   ],
   "source": [
    "# The results seem pretty good.\n",
    "#\n",
    "# Let us look at how the network performs on the whole dataset.\n",
    "\n",
    "correct = 0\n",
    "total = 0\n",
    "with torch.no_grad():\n",
    "    for data in test_load:\n",
    "        images, labels = data\n",
    "        outputs = net(images)\n",
    "        _, predicted = torch.max(outputs.data, 1)\n",
    "        total += labels.size(0)\n",
    "        correct += (predicted == labels).sum().item()\n",
    "\n",
    "print('Accuracy of the network on the 10000 test images: %d %%' % (\n",
    "    100 * correct / total))\n"
   ]
  },
  {
   "cell_type": "code",
   "execution_count": 87,
   "metadata": {},
   "outputs": [
    {
     "name": "stdout",
     "output_type": "stream",
     "text": [
      "Accuracy of airplane : 100 %\n"
     ]
    },
    {
     "ename": "ZeroDivisionError",
     "evalue": "float division by zero",
     "output_type": "error",
     "traceback": [
      "\u001b[0;31m---------------------------------------------------------------------------\u001b[0m",
      "\u001b[0;31mZeroDivisionError\u001b[0m                         Traceback (most recent call last)",
      "\u001b[0;32m<ipython-input-87-24b873f5982e>\u001b[0m in \u001b[0;36m<module>\u001b[0;34m\u001b[0m\n\u001b[1;32m     22\u001b[0m \u001b[0;32mfor\u001b[0m \u001b[0mi\u001b[0m \u001b[0;32min\u001b[0m \u001b[0mrange\u001b[0m\u001b[0;34m(\u001b[0m\u001b[0;36m10\u001b[0m\u001b[0;34m)\u001b[0m\u001b[0;34m:\u001b[0m\u001b[0;34m\u001b[0m\u001b[0;34m\u001b[0m\u001b[0m\n\u001b[1;32m     23\u001b[0m     print('Accuracy of %5s : %2d %%' % (\n\u001b[0;32m---> 24\u001b[0;31m         classes[i], 100 * class_correct[i] / class_total[i]))\n\u001b[0m",
      "\u001b[0;31mZeroDivisionError\u001b[0m: float division by zero"
     ]
    }
   ],
   "source": [
    "# That looks way better than chance, which is 10% accuracy (randomly picking\n",
    "# a class out of 10 classes).\n",
    "# Seems like the network learnt something.\n",
    "#\n",
    "# Hmmm, what are the classes that performed well, and the classes that did\n",
    "# not perform well:\n",
    "\n",
    "class_correct = list(0. for i in range(10))\n",
    "class_total = list(0. for i in range(10))\n",
    "with torch.no_grad():\n",
    "    for data in test_load:\n",
    "        images, labels = data\n",
    "        outputs = net(images)\n",
    "        _, predicted = torch.max(outputs, 1)\n",
    "        c = (predicted == labels).squeeze()\n",
    "        for i in range(4):\n",
    "            label = labels[i]\n",
    "            class_correct[label] += c[i].item()\n",
    "            class_total[label] += 1\n",
    "\n",
    "\n",
    "for i in range(10):\n",
    "    print('Accuracy of %5s : %2d %%' % (\n",
    "        classes[i], 100 * class_correct[i] / class_total[i]))"
   ]
  },
  {
   "cell_type": "code",
   "execution_count": null,
   "metadata": {},
   "outputs": [],
   "source": [
    "# Okay, so what next?\n",
    "#\n",
    "# How do we run these neural networks on the GPU?\n",
    "#\n",
    "# Training on GPU\n",
    "# ----------------\n",
    "# Just like how you transfer a Tensor onto the GPU, you transfer the neural\n",
    "# net onto the GPU.\n",
    "#\n",
    "# Let's first define our device as the first visible cuda device if we have\n",
    "# CUDA available:\n",
    "\n",
    "device = torch.device(\"cuda:0\" if torch.cuda.is_available() else \"cpu\")\n",
    "\n",
    "# Assuming that we are on a CUDA machine, this should print a CUDA device:\n",
    "\n",
    "print(device)\n"
   ]
  },
  {
   "cell_type": "code",
   "execution_count": null,
   "metadata": {},
   "outputs": [],
   "source": [
    "# The rest of this section assumes that ``device`` is a CUDA device.\n",
    "#\n",
    "# Then these methods will recursively go over all modules and convert their\n",
    "# parameters and buffers to CUDA tensors:\n",
    "#\n",
    "# .. code:: python\n",
    "#\n",
    "#     net.to(device)\n",
    "#\n",
    "#\n",
    "# Remember that you will have to send the inputs and targets at every step\n",
    "# to the GPU too:\n",
    "#\n",
    "# .. code:: python\n",
    "#\n",
    "#         inputs, labels = data[0].to(device), data[1].to(device)\n",
    "#\n",
    "# Why dont I notice MASSIVE speedup compared to CPU? Because your network\n",
    "# is really small.\n",
    "#\n",
    "# **Exercise:** Try increasing the width of your network (argument 2 of\n",
    "# the first ``nn.Conv2d``, and argument 1 of the second ``nn.Conv2d`` –\n",
    "# they need to be the same number), see what kind of speedup you get.\n",
    "#\n",
    "# **Goals achieved**:\n",
    "#\n",
    "# - Understanding PyTorch's Tensor library and neural networks at a high level.\n",
    "# - Train a small neural network to classify images\n",
    "#\n",
    "# Training on multiple GPUs\n",
    "# -------------------------\n",
    "# If you want to see even more MASSIVE speedup using all of your GPUs,\n",
    "# please check out :doc:`data_parallel_tutorial`.\n",
    "#\n",
    "# Where do I go next?\n",
    "# -------------------\n",
    "#\n",
    "# -  :doc:`Train neural nets to play video games </intermediate/reinforcement_q_learning>`\n",
    "# -  `Train a state-of-the-art ResNet network on imagenet`_\n",
    "# -  `Train a face generator using Generative Adversarial Networks`_\n",
    "# -  `Train a word-level language model using Recurrent LSTM networks`_\n",
    "# -  `More examples`_\n",
    "# -  `More tutorials`_\n",
    "# -  `Discuss PyTorch on the Forums`_\n",
    "# -  `Chat with other users on Slack`_\n",
    "#\n",
    "# .. _Train a state-of-the-art ResNet network on imagenet: https://github.com/pytorch/examples/tree/master/imagenet\n",
    "# .. _Train a face generator using Generative Adversarial Networks: https://github.com/pytorch/examples/tree/master/dcgan\n",
    "# .. _Train a word-level language model using Recurrent LSTM networks: https://github.com/pytorch/examples/tree/master/word_language_model\n",
    "# .. _More examples: https://github.com/pytorch/examples\n",
    "# .. _More tutorials: https://github.com/pytorch/tutorials\n",
    "# .. _Discuss PyTorch on the Forums: https://discuss.pytorch.org/\n",
    "# .. _Chat with other users on Slack: https://pytorch.slack.com/messages/beginner/\n"
   ]
  },
  {
   "cell_type": "code",
   "execution_count": 6,
   "metadata": {},
   "outputs": [],
   "source": []
  },
  {
   "cell_type": "code",
   "execution_count": 7,
   "metadata": {},
   "outputs": [],
   "source": []
  },
  {
   "cell_type": "code",
   "execution_count": 8,
   "metadata": {},
   "outputs": [],
   "source": []
  },
  {
   "cell_type": "code",
   "execution_count": 9,
   "metadata": {},
   "outputs": [],
   "source": []
  },
  {
   "cell_type": "code",
   "execution_count": 10,
   "metadata": {},
   "outputs": [],
   "source": []
  },
  {
   "cell_type": "code",
   "execution_count": null,
   "metadata": {},
   "outputs": [],
   "source": []
  },
  {
   "cell_type": "code",
   "execution_count": null,
   "metadata": {},
   "outputs": [],
   "source": []
  }
 ],
 "metadata": {
  "kernelspec": {
   "display_name": "Python 3.7.4 64-bit ('base': conda)",
   "language": "python",
   "name": "python37464bitbasecondaffd54c677dac4667ab9ca893b9a08683"
  },
  "language_info": {
   "codemirror_mode": {
    "name": "ipython",
    "version": 3
   },
   "file_extension": ".py",
   "mimetype": "text/x-python",
   "name": "python",
   "nbconvert_exporter": "python",
   "pygments_lexer": "ipython3",
   "version": "3.7.4"
  },
  "varInspector": {
   "cols": {
    "lenName": 16,
    "lenType": 16,
    "lenVar": 40
   },
   "kernels_config": {
    "python": {
     "delete_cmd_postfix": "",
     "delete_cmd_prefix": "del ",
     "library": "var_list.py",
     "varRefreshCmd": "print(var_dic_list())"
    },
    "r": {
     "delete_cmd_postfix": ") ",
     "delete_cmd_prefix": "rm(",
     "library": "var_list.r",
     "varRefreshCmd": "cat(var_dic_list()) "
    }
   },
   "types_to_exclude": [
    "module",
    "function",
    "builtin_function_or_method",
    "instance",
    "_Feature"
   ],
   "window_display": false
  }
 },
 "nbformat": 4,
 "nbformat_minor": 4
}
